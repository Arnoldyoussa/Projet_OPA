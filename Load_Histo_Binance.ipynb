{
 "cells": [
  {
   "cell_type": "markdown",
   "metadata": {},
   "source": [
    "# Projet : CryptoBot avec Binance (OPA)\n",
    "\n",
    "## Phase 2 : Organisation des Données"
   ]
  },
  {
   "cell_type": "markdown",
   "metadata": {},
   "source": [
    "### Objectif du Document:"
   ]
  },
  {
   "cell_type": "markdown",
   "metadata": {},
   "source": [
    "Ce doc a pour but de présenter les différentes étapes pour : \n",
    "- Réupérer une donnée Historique, \n",
    "- Alimenter la Base Mongo, \n",
    "- Alimenter la table SQL Histo"
   ]
  },
  {
   "cell_type": "markdown",
   "metadata": {},
   "source": [
    "### Step 1:  Initialisation des Modules"
   ]
  },
  {
   "cell_type": "code",
   "execution_count": 1,
   "metadata": {},
   "outputs": [],
   "source": [
    "from Binance.Data import Binance_Histo as Histo\n",
    "from Binance.Data import Binance_Live as live\n",
    "from Binance.Dao import Drivers_MongoDB as DAO_MB\n",
    "from Binance.Dao import Drivers_SQlite as DAO_SQL\n",
    "from Binance.Utils import Utilitaire as util\n",
    "from Binance.Utils import Technical_Analyst as util_TA\n",
    "\n",
    "import pandas as pd\n",
    "\n",
    "Symbol = 'BTCUSDT'"
   ]
  },
  {
   "cell_type": "markdown",
   "metadata": {},
   "source": [
    "### Step 2: Chargement Fichiers Historique "
   ]
  },
  {
   "cell_type": "code",
   "execution_count": 11,
   "metadata": {},
   "outputs": [
    {
     "name": "stdout",
     "output_type": "stream",
     "text": [
      "ci dessous la liste des fichiers à charger\n",
      "['BTCUSDT-15m-2022-12.csv']\n"
     ]
    }
   ],
   "source": [
    "L = list()\n",
    "\n",
    "X = Histo.Binance_Histo([Symbol], ['15m'], Frequence= 'M')\n",
    "X.get_ListeFichier()\n",
    "X.TelechargeFichier()\n",
    "\n",
    "for Monfichier in X.L_Fichier:\n",
    "    L.append(Monfichier['Nom'])\n",
    "\n",
    "print('ci dessous la liste des fichiers à charger')\n",
    "print(L[0:2])\n"
   ]
  },
  {
   "cell_type": "markdown",
   "metadata": {},
   "source": [
    "### Step 3: Connexion à la base Mongo DB"
   ]
  },
  {
   "cell_type": "code",
   "execution_count": 12,
   "metadata": {},
   "outputs": [],
   "source": [
    "# Connexion à la base avec les fichiers à charger\n",
    "Y = DAO_MB.Drivers_MongoDB(L)\n",
    "Y.ChargeFichiers()"
   ]
  },
  {
   "cell_type": "code",
   "execution_count": 2,
   "metadata": {},
   "outputs": [],
   "source": [
    "# Connexion à la base sans fichiers à charger\n",
    "Y = DAO_MB.Drivers_MongoDB()"
   ]
  },
  {
   "cell_type": "code",
   "execution_count": 9,
   "metadata": {},
   "outputs": [],
   "source": [
    "# Suppression des collections si besoin\n",
    "Y.DeleteCollection([Symbol])"
   ]
  },
  {
   "cell_type": "code",
   "execution_count": 3,
   "metadata": {},
   "outputs": [
    {
     "name": "stdout",
     "output_type": "stream",
     "text": [
      "Liste des Collection : ['BTCUSDT']\n",
      "Liste des Fichiers Chargés de la 1ere collection : ['BTCUSDT-15m-2022-12.csv']\n"
     ]
    },
    {
     "ename": "NameError",
     "evalue": "name 'X' is not defined",
     "output_type": "error",
     "traceback": [
      "\u001b[0;31m---------------------------------------------------------------------------\u001b[0m",
      "\u001b[0;31mNameError\u001b[0m                                 Traceback (most recent call last)",
      "Cell \u001b[0;32mIn[3], line 3\u001b[0m\n\u001b[1;32m      1\u001b[0m \u001b[38;5;28mprint\u001b[39m(\u001b[38;5;124m'\u001b[39m\u001b[38;5;124mListe des Collection :\u001b[39m\u001b[38;5;124m'\u001b[39m,  Y\u001b[38;5;241m.\u001b[39mget_AllCollection())\n\u001b[1;32m      2\u001b[0m \u001b[38;5;28mprint\u001b[39m(\u001b[38;5;124m'\u001b[39m\u001b[38;5;124mListe des Fichiers Chargés de la 1ere collection :\u001b[39m\u001b[38;5;124m'\u001b[39m, Y\u001b[38;5;241m.\u001b[39mget_ListeFichier(Y\u001b[38;5;241m.\u001b[39mget_AllCollection()[\u001b[38;5;241m0\u001b[39m]))\n\u001b[0;32m----> 3\u001b[0m \u001b[43mX\u001b[49m\u001b[38;5;241m.\u001b[39mSupprimeFichier()\n",
      "\u001b[0;31mNameError\u001b[0m: name 'X' is not defined"
     ]
    }
   ],
   "source": [
    "print('Liste des Collection :',  Y.get_AllCollection())\n",
    "print('Liste des Fichiers Chargés de la 1ere collection :', Y.get_ListeFichier(Y.get_AllCollection()[0]))\n",
    "X.SupprimeFichier()"
   ]
  },
  {
   "cell_type": "markdown",
   "metadata": {},
   "source": [
    "### Step 4:Connexion à la base SQLite"
   ]
  },
  {
   "cell_type": "code",
   "execution_count": 5,
   "metadata": {},
   "outputs": [],
   "source": [
    "#Connexion à la base SQLite\n",
    "\n",
    "PathDatabase = '/home/arnold/ENV_VIRTUEL/ATU_FORMATION/REP_DEV/Projet_OPA/DataBase/SQLite/test.db'\n",
    "SQL = DAO_SQL.Drivers_SQLite(PathDatabase)\n"
   ]
  },
  {
   "cell_type": "code",
   "execution_count": 3,
   "metadata": {},
   "outputs": [],
   "source": [
    "#Reinitialisation de la DataBase (Si besoin)\n",
    "\n",
    "PathCreateTable = '/home/arnold/ENV_VIRTUEL/ATU_FORMATION/REP_DEV/Projet_OPA/Binance/Dao/Create_DBSQLITE_OPA.sql'\n",
    "SQL.Re_InitDB(PathCreateTable)"
   ]
  },
  {
   "cell_type": "markdown",
   "metadata": {},
   "source": [
    "#### Step 4.1: Alimentation Table Dim Temps"
   ]
  },
  {
   "cell_type": "code",
   "execution_count": 26,
   "metadata": {},
   "outputs": [],
   "source": [
    "#Récupération des données temps depuis la Base Mongo\n",
    "\n",
    "Liste_Temps = list(Y.DBMongo[Symbol].find({}, {'Detail.Close_time' : 1, 'Detail.Open_time': 1}))"
   ]
  },
  {
   "cell_type": "code",
   "execution_count": 27,
   "metadata": {},
   "outputs": [
    {
     "data": {
      "text/html": [
       "<div>\n",
       "<style scoped>\n",
       "    .dataframe tbody tr th:only-of-type {\n",
       "        vertical-align: middle;\n",
       "    }\n",
       "\n",
       "    .dataframe tbody tr th {\n",
       "        vertical-align: top;\n",
       "    }\n",
       "\n",
       "    .dataframe thead th {\n",
       "        text-align: right;\n",
       "    }\n",
       "</style>\n",
       "<table border=\"1\" class=\"dataframe\">\n",
       "  <thead>\n",
       "    <tr style=\"text-align: right;\">\n",
       "      <th></th>\n",
       "      <th>ID_TEMPS</th>\n",
       "    </tr>\n",
       "  </thead>\n",
       "  <tbody>\n",
       "    <tr>\n",
       "      <th>0</th>\n",
       "      <td>1672186500000</td>\n",
       "    </tr>\n",
       "    <tr>\n",
       "      <th>1</th>\n",
       "      <td>1672187399999</td>\n",
       "    </tr>\n",
       "    <tr>\n",
       "      <th>2</th>\n",
       "      <td>1672187400000</td>\n",
       "    </tr>\n",
       "    <tr>\n",
       "      <th>3</th>\n",
       "      <td>1672188299999</td>\n",
       "    </tr>\n",
       "    <tr>\n",
       "      <th>4</th>\n",
       "      <td>1672188300000</td>\n",
       "    </tr>\n",
       "  </tbody>\n",
       "</table>\n",
       "</div>"
      ],
      "text/plain": [
       "        ID_TEMPS\n",
       "0  1672186500000\n",
       "1  1672187399999\n",
       "2  1672187400000\n",
       "3  1672188299999\n",
       "4  1672188300000"
      ]
     },
     "execution_count": 27,
     "metadata": {},
     "output_type": "execute_result"
    }
   ],
   "source": [
    "# Formatage du Résultat dns un DataFrame\n",
    "\n",
    "R = list()\n",
    "for i in Liste_Temps :\n",
    "    for y in i['Detail']:\n",
    "        if y['Open_time'] not in R:\n",
    "            R.append(y['Open_time'])\n",
    "        \n",
    "        if y['Close_time'] not in R:\n",
    "            R.append(y['Close_time'])\n",
    "            \n",
    "DimTemps = pd.DataFrame(R, columns = ['ID_TEMPS'] , dtype='int')\n",
    "\n",
    "DimTemps.head()"
   ]
  },
  {
   "cell_type": "code",
   "execution_count": 28,
   "metadata": {},
   "outputs": [
    {
     "data": {
      "text/html": [
       "<div>\n",
       "<style scoped>\n",
       "    .dataframe tbody tr th:only-of-type {\n",
       "        vertical-align: middle;\n",
       "    }\n",
       "\n",
       "    .dataframe tbody tr th {\n",
       "        vertical-align: top;\n",
       "    }\n",
       "\n",
       "    .dataframe thead th {\n",
       "        text-align: right;\n",
       "    }\n",
       "</style>\n",
       "<table border=\"1\" class=\"dataframe\">\n",
       "  <thead>\n",
       "    <tr style=\"text-align: right;\">\n",
       "      <th></th>\n",
       "      <th>ID_TEMPS</th>\n",
       "      <th>SECONDES</th>\n",
       "      <th>MINUTES</th>\n",
       "      <th>HEURE</th>\n",
       "      <th>JOUR</th>\n",
       "      <th>MOIS</th>\n",
       "      <th>ANNEE</th>\n",
       "    </tr>\n",
       "  </thead>\n",
       "  <tbody>\n",
       "    <tr>\n",
       "      <th>0</th>\n",
       "      <td>1672186500000</td>\n",
       "      <td>0</td>\n",
       "      <td>15</td>\n",
       "      <td>1</td>\n",
       "      <td>28</td>\n",
       "      <td>12</td>\n",
       "      <td>2022</td>\n",
       "    </tr>\n",
       "    <tr>\n",
       "      <th>1</th>\n",
       "      <td>1672187399999</td>\n",
       "      <td>59</td>\n",
       "      <td>29</td>\n",
       "      <td>1</td>\n",
       "      <td>28</td>\n",
       "      <td>12</td>\n",
       "      <td>2022</td>\n",
       "    </tr>\n",
       "    <tr>\n",
       "      <th>2</th>\n",
       "      <td>1672187400000</td>\n",
       "      <td>0</td>\n",
       "      <td>30</td>\n",
       "      <td>1</td>\n",
       "      <td>28</td>\n",
       "      <td>12</td>\n",
       "      <td>2022</td>\n",
       "    </tr>\n",
       "    <tr>\n",
       "      <th>3</th>\n",
       "      <td>1672188299999</td>\n",
       "      <td>59</td>\n",
       "      <td>44</td>\n",
       "      <td>1</td>\n",
       "      <td>28</td>\n",
       "      <td>12</td>\n",
       "      <td>2022</td>\n",
       "    </tr>\n",
       "    <tr>\n",
       "      <th>4</th>\n",
       "      <td>1672188300000</td>\n",
       "      <td>0</td>\n",
       "      <td>45</td>\n",
       "      <td>1</td>\n",
       "      <td>28</td>\n",
       "      <td>12</td>\n",
       "      <td>2022</td>\n",
       "    </tr>\n",
       "  </tbody>\n",
       "</table>\n",
       "</div>"
      ],
      "text/plain": [
       "        ID_TEMPS  SECONDES  MINUTES  HEURE  JOUR  MOIS  ANNEE\n",
       "0  1672186500000         0       15      1    28    12   2022\n",
       "1  1672187399999        59       29      1    28    12   2022\n",
       "2  1672187400000         0       30      1    28    12   2022\n",
       "3  1672188299999        59       44      1    28    12   2022\n",
       "4  1672188300000         0       45      1    28    12   2022"
      ]
     },
     "execution_count": 28,
     "metadata": {},
     "output_type": "execute_result"
    }
   ],
   "source": [
    "# Mise à jour du DataFrame au format de la table DimTemps\n",
    "\n",
    "DimTemps['SECONDES'] = DimTemps['ID_TEMPS'].apply(util.Convertir_Timestamp, formatDate=('ss'))\n",
    "DimTemps['MINUTES'] = DimTemps['ID_TEMPS'].apply(util.Convertir_Timestamp, formatDate=('mm'))\n",
    "DimTemps['HEURE'] = DimTemps['ID_TEMPS'].apply(util.Convertir_Timestamp, formatDate=('HH'))\n",
    "DimTemps['JOUR'] = DimTemps['ID_TEMPS'].apply(util.Convertir_Timestamp, formatDate=('DD'))\n",
    "DimTemps['MOIS'] = DimTemps['ID_TEMPS'].apply(util.Convertir_Timestamp, formatDate=('MM'))\n",
    "DimTemps['ANNEE'] = DimTemps['ID_TEMPS'].apply(util.Convertir_Timestamp, formatDate=('YYYY'))\n",
    "    \n",
    "DimTemps.head(5)"
   ]
  },
  {
   "cell_type": "code",
   "execution_count": 29,
   "metadata": {},
   "outputs": [
    {
     "name": "stdout",
     "output_type": "stream",
     "text": [
      "[(1672186500000, '0', '15', '1', '28', '12', '2022', '2023-01-27'), (1672187399999, '59', '29', '1', '28', '12', '2022', '2023-01-27'), (1672187400000, '0', '30', '1', '28', '12', '2022', '2023-01-27'), (1672188299999, '59', '44', '1', '28', '12', '2022', '2023-01-27'), (1672188300000, '0', '45', '1', '28', '12', '2022', '2023-01-27')]\n"
     ]
    }
   ],
   "source": [
    "# Alimentation Table Dim_Temps\n",
    "\n",
    "SQL.Alim_DimTemps(DimTemps)\n",
    "res = SQL.Select('select * from DIM_TEMPS limit 5;')\n",
    "print(res)\n"
   ]
  },
  {
   "cell_type": "markdown",
   "metadata": {},
   "source": [
    "#### Step 4.2: Alimentation Table Dim Symbol"
   ]
  },
  {
   "cell_type": "code",
   "execution_count": 30,
   "metadata": {},
   "outputs": [],
   "source": [
    "#Récupération des données symbole depuis la Base Mongo\n",
    "\n",
    "Liste_Symbole = list(Y.DBMongo[Symbol].find({}, {\"Symbol\" : 1, \"Intervalle\" : 1, \"_id\" : 0}))\n",
    "\n",
    "R2 = list()\n",
    "for i in Liste_Symbole:\n",
    "    a = {\"NOM_SYMBOL\" : i['Symbol'], \"INTERVALLE\" : i['Intervalle']} \n",
    "    if a not in R2:\n",
    "        R2.append(a)\n",
    "        \n",
    "DimSymbol = pd.DataFrame(R2)"
   ]
  },
  {
   "cell_type": "code",
   "execution_count": 31,
   "metadata": {},
   "outputs": [],
   "source": [
    "# On compléte le df Symbol\n",
    "\n",
    "DLive = live.Binance_Live()\n",
    "Info_symbol = DLive.exchange_info(Symbol)\n",
    "\n",
    "\n",
    "i = {'NOM_SYMBOL' : Info_symbol['symbols'][0]['symbol'],\n",
    "                              'BaseAsset' : Info_symbol['symbols'][0]['baseAsset'],\n",
    "                              'QuoteAsset' : Info_symbol['symbols'][0]['quoteAsset']}\n",
    "df = pd.DataFrame([i ])\n",
    "DimSymbol = DimSymbol.merge(df, on = 'NOM_SYMBOL' )\n",
    "\n"
   ]
  },
  {
   "cell_type": "code",
   "execution_count": 32,
   "metadata": {},
   "outputs": [
    {
     "name": "stdout",
     "output_type": "stream",
     "text": [
      "[(1, '1INCHBUSD', '15m', '1INCH', 'BUSD', '2023-01-27'), (2, '1INCHBUSD', '30m', '1INCH', 'BUSD', '2023-01-27')]\n"
     ]
    }
   ],
   "source": [
    "SQL.Alim_DimSymbol(DimSymbol)\n",
    "res = SQL.Select('select * from DIM_SYMBOL limit 5;')\n",
    "print(res)\n",
    "            "
   ]
  },
  {
   "cell_type": "markdown",
   "metadata": {},
   "source": [
    "#### Step 4.3: Alimentation Table Fait Situation Histo"
   ]
  },
  {
   "cell_type": "code",
   "execution_count": 11,
   "metadata": {},
   "outputs": [
    {
     "data": {
      "text/html": [
       "<div>\n",
       "<style scoped>\n",
       "    .dataframe tbody tr th:only-of-type {\n",
       "        vertical-align: middle;\n",
       "    }\n",
       "\n",
       "    .dataframe tbody tr th {\n",
       "        vertical-align: top;\n",
       "    }\n",
       "\n",
       "    .dataframe thead th {\n",
       "        text-align: right;\n",
       "    }\n",
       "</style>\n",
       "<table border=\"1\" class=\"dataframe\">\n",
       "  <thead>\n",
       "    <tr style=\"text-align: right;\">\n",
       "      <th></th>\n",
       "      <th>ID_TEMPS</th>\n",
       "      <th>NOM_SYMBOL</th>\n",
       "      <th>INTERVALLE</th>\n",
       "      <th>VALEUR_COURS</th>\n",
       "      <th>IND_QUOTEVOLUME</th>\n",
       "    </tr>\n",
       "  </thead>\n",
       "  <tbody>\n",
       "    <tr>\n",
       "      <th>0</th>\n",
       "      <td>1669854599999</td>\n",
       "      <td>BTCUSDT</td>\n",
       "      <td>15m</td>\n",
       "      <td>17202.17</td>\n",
       "      <td>90925762</td>\n",
       "    </tr>\n",
       "    <tr>\n",
       "      <th>1</th>\n",
       "      <td>1669855499999</td>\n",
       "      <td>BTCUSDT</td>\n",
       "      <td>15m</td>\n",
       "      <td>17155.80</td>\n",
       "      <td>43014195</td>\n",
       "    </tr>\n",
       "    <tr>\n",
       "      <th>2</th>\n",
       "      <td>1669856399999</td>\n",
       "      <td>BTCUSDT</td>\n",
       "      <td>15m</td>\n",
       "      <td>17161.55</td>\n",
       "      <td>43985336</td>\n",
       "    </tr>\n",
       "    <tr>\n",
       "      <th>3</th>\n",
       "      <td>1669857299999</td>\n",
       "      <td>BTCUSDT</td>\n",
       "      <td>15m</td>\n",
       "      <td>17145.88</td>\n",
       "      <td>37258575</td>\n",
       "    </tr>\n",
       "    <tr>\n",
       "      <th>4</th>\n",
       "      <td>1669858199999</td>\n",
       "      <td>BTCUSDT</td>\n",
       "      <td>15m</td>\n",
       "      <td>17123.66</td>\n",
       "      <td>48736734</td>\n",
       "    </tr>\n",
       "  </tbody>\n",
       "</table>\n",
       "</div>"
      ],
      "text/plain": [
       "        ID_TEMPS NOM_SYMBOL INTERVALLE  VALEUR_COURS  IND_QUOTEVOLUME\n",
       "0  1669854599999    BTCUSDT        15m      17202.17         90925762\n",
       "1  1669855499999    BTCUSDT        15m      17155.80         43014195\n",
       "2  1669856399999    BTCUSDT        15m      17161.55         43985336\n",
       "3  1669857299999    BTCUSDT        15m      17145.88         37258575\n",
       "4  1669858199999    BTCUSDT        15m      17123.66         48736734"
      ]
     },
     "execution_count": 11,
     "metadata": {},
     "output_type": "execute_result"
    }
   ],
   "source": [
    "# Récupération des données Histo de la base Mongo\n",
    "L = list()\n",
    "\n",
    "for doc in Y.get_AllDocuments(Symbol):\n",
    "    for detail in doc['Detail']:\n",
    "        L.append({'ID_TEMPS' :detail['Close_time'], \n",
    "                  'NOM_SYMBOL' : doc['Symbol'], \n",
    "                  'INTERVALLE' : doc['Intervalle'], \n",
    "                  'VALEUR_COURS' : detail['Close'] ,\n",
    "                  'IND_QUOTEVOLUME' : detail['Quote_asset_volume'] \n",
    "                 })\n",
    "\n",
    "FaiCoursHisto = pd.DataFrame(L)\n",
    "FaiCoursHisto['ID_TEMPS'] = FaiCoursHisto['ID_TEMPS'].astype(int)\n",
    "FaiCoursHisto['IND_QUOTEVOLUME'] = FaiCoursHisto['IND_QUOTEVOLUME'].astype(int)\n",
    "\n",
    "FaiCoursHisto.head()\n"
   ]
  },
  {
   "cell_type": "code",
   "execution_count": 12,
   "metadata": {},
   "outputs": [
    {
     "data": {
      "text/html": [
       "<div>\n",
       "<style scoped>\n",
       "    .dataframe tbody tr th:only-of-type {\n",
       "        vertical-align: middle;\n",
       "    }\n",
       "\n",
       "    .dataframe tbody tr th {\n",
       "        vertical-align: top;\n",
       "    }\n",
       "\n",
       "    .dataframe thead th {\n",
       "        text-align: right;\n",
       "    }\n",
       "</style>\n",
       "<table border=\"1\" class=\"dataframe\">\n",
       "  <thead>\n",
       "    <tr style=\"text-align: right;\">\n",
       "      <th></th>\n",
       "      <th>ID_TEMPS</th>\n",
       "      <th>NOM_SYMBOL</th>\n",
       "      <th>INTERVALLE</th>\n",
       "      <th>VALEUR_COURS</th>\n",
       "      <th>IND_QUOTEVOLUME</th>\n",
       "      <th>ID_SYMBOL</th>\n",
       "    </tr>\n",
       "  </thead>\n",
       "  <tbody>\n",
       "    <tr>\n",
       "      <th>0</th>\n",
       "      <td>1669854599999</td>\n",
       "      <td>BTCUSDT</td>\n",
       "      <td>15m</td>\n",
       "      <td>17202.17</td>\n",
       "      <td>90925762</td>\n",
       "      <td>1</td>\n",
       "    </tr>\n",
       "    <tr>\n",
       "      <th>1</th>\n",
       "      <td>1669855499999</td>\n",
       "      <td>BTCUSDT</td>\n",
       "      <td>15m</td>\n",
       "      <td>17155.80</td>\n",
       "      <td>43014195</td>\n",
       "      <td>1</td>\n",
       "    </tr>\n",
       "    <tr>\n",
       "      <th>2</th>\n",
       "      <td>1669856399999</td>\n",
       "      <td>BTCUSDT</td>\n",
       "      <td>15m</td>\n",
       "      <td>17161.55</td>\n",
       "      <td>43985336</td>\n",
       "      <td>1</td>\n",
       "    </tr>\n",
       "    <tr>\n",
       "      <th>3</th>\n",
       "      <td>1669857299999</td>\n",
       "      <td>BTCUSDT</td>\n",
       "      <td>15m</td>\n",
       "      <td>17145.88</td>\n",
       "      <td>37258575</td>\n",
       "      <td>1</td>\n",
       "    </tr>\n",
       "    <tr>\n",
       "      <th>4</th>\n",
       "      <td>1669858199999</td>\n",
       "      <td>BTCUSDT</td>\n",
       "      <td>15m</td>\n",
       "      <td>17123.66</td>\n",
       "      <td>48736734</td>\n",
       "      <td>1</td>\n",
       "    </tr>\n",
       "  </tbody>\n",
       "</table>\n",
       "</div>"
      ],
      "text/plain": [
       "        ID_TEMPS NOM_SYMBOL INTERVALLE  VALEUR_COURS  IND_QUOTEVOLUME  \\\n",
       "0  1669854599999    BTCUSDT        15m      17202.17         90925762   \n",
       "1  1669855499999    BTCUSDT        15m      17155.80         43014195   \n",
       "2  1669856399999    BTCUSDT        15m      17161.55         43985336   \n",
       "3  1669857299999    BTCUSDT        15m      17145.88         37258575   \n",
       "4  1669858199999    BTCUSDT        15m      17123.66         48736734   \n",
       "\n",
       "   ID_SYMBOL  \n",
       "0          1  \n",
       "1          1  \n",
       "2          1  \n",
       "3          1  \n",
       "4          1  "
      ]
     },
     "execution_count": 12,
     "metadata": {},
     "output_type": "execute_result"
    }
   ],
   "source": [
    "#Recherche Id Symbol à partir de la base SQL\n",
    "L = list()\n",
    "\n",
    "res = SQL.Select('select ID_SYMBOL,NOM_SYMBOL,INTERVALLE  from DIM_SYMBOL;')\n",
    "\n",
    "for i in res:\n",
    "    (a,b,c) = i\n",
    "    L.append({'ID_SYMBOL' : a, 'NOM_SYMBOL' : b, 'INTERVALLE' : c})\n",
    "    \n",
    "df = pd.DataFrame(L)\n",
    "\n",
    "FaiCoursHisto = FaiCoursHisto.merge(df, how = 'inner')\n",
    "\n",
    "FaiCoursHisto.head()"
   ]
  },
  {
   "cell_type": "code",
   "execution_count": 13,
   "metadata": {},
   "outputs": [
    {
     "data": {
      "text/html": [
       "<div>\n",
       "<style scoped>\n",
       "    .dataframe tbody tr th:only-of-type {\n",
       "        vertical-align: middle;\n",
       "    }\n",
       "\n",
       "    .dataframe tbody tr th {\n",
       "        vertical-align: top;\n",
       "    }\n",
       "\n",
       "    .dataframe thead th {\n",
       "        text-align: right;\n",
       "    }\n",
       "</style>\n",
       "<table border=\"1\" class=\"dataframe\">\n",
       "  <thead>\n",
       "    <tr style=\"text-align: right;\">\n",
       "      <th></th>\n",
       "      <th>ID_TEMPS</th>\n",
       "      <th>ID_SYMBOL</th>\n",
       "      <th>VALEUR_COURS</th>\n",
       "      <th>IND_SMA_20</th>\n",
       "      <th>IND_SMA_30</th>\n",
       "      <th>IND_QUOTEVOLUME</th>\n",
       "      <th>IND_CHANGEPERCENT</th>\n",
       "      <th>IND_STOCH_RSI</th>\n",
       "      <th>IND_RSI</th>\n",
       "      <th>IND_TRIX</th>\n",
       "    </tr>\n",
       "  </thead>\n",
       "  <tbody>\n",
       "    <tr>\n",
       "      <th>0</th>\n",
       "      <td>1669854599999</td>\n",
       "      <td>1</td>\n",
       "      <td>17202.17</td>\n",
       "      <td>NaN</td>\n",
       "      <td>NaN</td>\n",
       "      <td>90925762</td>\n",
       "      <td>NaN</td>\n",
       "      <td>NaN</td>\n",
       "      <td>NaN</td>\n",
       "      <td>NaN</td>\n",
       "    </tr>\n",
       "    <tr>\n",
       "      <th>1</th>\n",
       "      <td>1669855499999</td>\n",
       "      <td>1</td>\n",
       "      <td>17155.80</td>\n",
       "      <td>NaN</td>\n",
       "      <td>NaN</td>\n",
       "      <td>43014195</td>\n",
       "      <td>-0.270288</td>\n",
       "      <td>NaN</td>\n",
       "      <td>NaN</td>\n",
       "      <td>NaN</td>\n",
       "    </tr>\n",
       "    <tr>\n",
       "      <th>2</th>\n",
       "      <td>1669856399999</td>\n",
       "      <td>1</td>\n",
       "      <td>17161.55</td>\n",
       "      <td>NaN</td>\n",
       "      <td>NaN</td>\n",
       "      <td>43985336</td>\n",
       "      <td>0.033505</td>\n",
       "      <td>NaN</td>\n",
       "      <td>NaN</td>\n",
       "      <td>NaN</td>\n",
       "    </tr>\n",
       "    <tr>\n",
       "      <th>3</th>\n",
       "      <td>1669857299999</td>\n",
       "      <td>1</td>\n",
       "      <td>17145.88</td>\n",
       "      <td>NaN</td>\n",
       "      <td>NaN</td>\n",
       "      <td>37258575</td>\n",
       "      <td>-0.091392</td>\n",
       "      <td>NaN</td>\n",
       "      <td>NaN</td>\n",
       "      <td>NaN</td>\n",
       "    </tr>\n",
       "    <tr>\n",
       "      <th>4</th>\n",
       "      <td>1669858199999</td>\n",
       "      <td>1</td>\n",
       "      <td>17123.66</td>\n",
       "      <td>NaN</td>\n",
       "      <td>NaN</td>\n",
       "      <td>48736734</td>\n",
       "      <td>-0.129762</td>\n",
       "      <td>NaN</td>\n",
       "      <td>NaN</td>\n",
       "      <td>NaN</td>\n",
       "    </tr>\n",
       "  </tbody>\n",
       "</table>\n",
       "</div>"
      ],
      "text/plain": [
       "        ID_TEMPS  ID_SYMBOL  VALEUR_COURS  IND_SMA_20  IND_SMA_30  \\\n",
       "0  1669854599999          1      17202.17         NaN         NaN   \n",
       "1  1669855499999          1      17155.80         NaN         NaN   \n",
       "2  1669856399999          1      17161.55         NaN         NaN   \n",
       "3  1669857299999          1      17145.88         NaN         NaN   \n",
       "4  1669858199999          1      17123.66         NaN         NaN   \n",
       "\n",
       "   IND_QUOTEVOLUME  IND_CHANGEPERCENT  IND_STOCH_RSI  IND_RSI  IND_TRIX  \n",
       "0         90925762                NaN            NaN      NaN       NaN  \n",
       "1         43014195          -0.270288            NaN      NaN       NaN  \n",
       "2         43985336           0.033505            NaN      NaN       NaN  \n",
       "3         37258575          -0.091392            NaN      NaN       NaN  \n",
       "4         48736734          -0.129762            NaN      NaN       NaN  "
      ]
     },
     "execution_count": 13,
     "metadata": {},
     "output_type": "execute_result"
    }
   ],
   "source": [
    "# Calcul des Indicateurs\n",
    "FaiCoursHisto['IND_SMA_20'] = util_TA.Calculer_SMA(FaiCoursHisto['VALEUR_COURS'], 20)\n",
    "FaiCoursHisto['IND_SMA_30'] = util_TA.Calculer_SMA(FaiCoursHisto['VALEUR_COURS'], 30)\n",
    "FaiCoursHisto['IND_CHANGEPERCENT'] = util_TA.Calculer_Change_Percent(FaiCoursHisto['VALEUR_COURS'])\n",
    "FaiCoursHisto['IND_STOCH_RSI'] = util_TA.Calculer_RSI_Stochastique(FaiCoursHisto['VALEUR_COURS'])\n",
    "FaiCoursHisto['IND_RSI'] =  util_TA.Calculer_RSI(FaiCoursHisto['VALEUR_COURS'])\n",
    "FaiCoursHisto['IND_TRIX'] = util_TA.calculate_trix(FaiCoursHisto['VALEUR_COURS'])\n",
    "\n",
    "FaiCoursHisto = FaiCoursHisto[['ID_TEMPS',  'ID_SYMBOL','VALEUR_COURS', 'IND_SMA_20', 'IND_SMA_30', 'IND_QUOTEVOLUME', 'IND_CHANGEPERCENT', 'IND_STOCH_RSI', 'IND_RSI', 'IND_TRIX']]\n",
    "\n",
    "FaiCoursHisto.head(5)"
   ]
  },
  {
   "cell_type": "code",
   "execution_count": null,
   "metadata": {},
   "outputs": [],
   "source": [
    "# Alimentation table SQL\n",
    "\n",
    "SQL.Alim_FaitSituation_Histo(FaiCoursHisto)\n",
    "res = SQL.Select('select * from FAIT_SIT_COURS_HIST limit 5;')\n",
    "print(res)\n",
    "            "
   ]
  }
 ],
 "metadata": {
  "kernelspec": {
   "display_name": "Python 3 (ipykernel)",
   "language": "python",
   "name": "python3"
  },
  "language_info": {
   "codemirror_mode": {
    "name": "ipython",
    "version": 3
   },
   "file_extension": ".py",
   "mimetype": "text/x-python",
   "name": "python",
   "nbconvert_exporter": "python",
   "pygments_lexer": "ipython3",
   "version": "3.8.10"
  },
  "vscode": {
   "interpreter": {
    "hash": "916dbcbb3f70747c44a77c7bcd40155683ae19c65e1c03b4aa3499c5328201f1"
   }
  }
 },
 "nbformat": 4,
 "nbformat_minor": 2
}
