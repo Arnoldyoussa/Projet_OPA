{
 "cells": [
  {
   "cell_type": "markdown",
   "metadata": {},
   "source": [
    "# Projet : CryptoBot avec Binance (OPA)\n",
    "\n",
    "## Phase 2 : Organisation des Données"
   ]
  },
  {
   "cell_type": "markdown",
   "metadata": {},
   "source": [
    "### Objectif du Document:"
   ]
  },
  {
   "cell_type": "markdown",
   "metadata": {},
   "source": [
    "Ce doc a pour but de présenter les différentes étapes pour : \n",
    "- Réupérer une donnée Historique, \n",
    "- Alimenter la Base Mongo, \n",
    "- Alimenter la table SQL Histo"
   ]
  },
  {
   "cell_type": "markdown",
   "metadata": {},
   "source": [
    "### Step 1:  Initialisation des Modules"
   ]
  },
  {
   "cell_type": "code",
   "execution_count": 1,
   "metadata": {},
   "outputs": [],
   "source": [
    "from Binance.Data import Binance_Histo as Histo\n",
    "from Binance.Data import Binance_Live as live\n",
    "from Binance.Dao import Drivers_MongoDB as DAO_MB\n",
    "from Binance.Dao import Drivers_SQlite as DAO_SQL\n",
    "from Binance.Utils import Utilitaire as util\n",
    "from Binance.Utils import Technical_Analyst as util_TA\n",
    "\n",
    "import pandas as pd\n",
    "\n",
    "Symbol = '1INCHBUSD'"
   ]
  },
  {
   "cell_type": "markdown",
   "metadata": {},
   "source": [
    "### Step 2: Chargement Fichiers Historique "
   ]
  },
  {
   "cell_type": "code",
   "execution_count": 20,
   "metadata": {},
   "outputs": [
    {
     "name": "stdout",
     "output_type": "stream",
     "text": [
      "ci dessous la liste des fichiers à charger\n",
      "['1INCHBUSD-15m-2022-12-28.csv', '1INCHBUSD-15m-2022-12-29.csv']\n"
     ]
    }
   ],
   "source": [
    "L = list()\n",
    "\n",
    "X = Histo.Binance_Histo([Symbol], ['15m'], Frequence= 'Q')\n",
    "X.get_ListeFichier()\n",
    "X.TelechargeFichier()\n",
    "\n",
    "for Monfichier in X.L_Fichier:\n",
    "    L.append(Monfichier['Nom'])\n",
    "\n",
    "print('ci dessous la liste des fichiers à charger')\n",
    "print(L[0:2])\n"
   ]
  },
  {
   "cell_type": "markdown",
   "metadata": {},
   "source": [
    "### Step 3: Connexion à la base Mongo DB"
   ]
  },
  {
   "cell_type": "code",
   "execution_count": 23,
   "metadata": {},
   "outputs": [],
   "source": [
    "# Connexion à la base avec les fichiers à charger\n",
    "Y = DAO_MB.Drivers_MongoDB(L)\n",
    "Y.ChargeFichiers()"
   ]
  },
  {
   "cell_type": "code",
   "execution_count": 2,
   "metadata": {},
   "outputs": [],
   "source": [
    "# Connexion à la base sans fichiers à charger\n",
    "Y = DAO_MB.Drivers_MongoDB()"
   ]
  },
  {
   "cell_type": "code",
   "execution_count": 22,
   "metadata": {},
   "outputs": [
    {
     "ename": "AttributeError",
     "evalue": "'Drivers_MongoDB' object has no attribute 'DeleteCollection'",
     "output_type": "error",
     "traceback": [
      "\u001b[0;31m---------------------------------------------------------------------------\u001b[0m",
      "\u001b[0;31mAttributeError\u001b[0m                            Traceback (most recent call last)",
      "Cell \u001b[0;32mIn[22], line 2\u001b[0m\n\u001b[1;32m      1\u001b[0m \u001b[38;5;66;03m# Suppression des collections si besoin\u001b[39;00m\n\u001b[0;32m----> 2\u001b[0m \u001b[43mY\u001b[49m\u001b[38;5;241;43m.\u001b[39;49m\u001b[43mDeleteCollection\u001b[49m([Symbol])\n",
      "\u001b[0;31mAttributeError\u001b[0m: 'Drivers_MongoDB' object has no attribute 'DeleteCollection'"
     ]
    }
   ],
   "source": [
    "# Suppression des collections si besoin\n",
    "Y.DeleteCollection([Symbol])"
   ]
  },
  {
   "cell_type": "code",
   "execution_count": 24,
   "metadata": {},
   "outputs": [
    {
     "name": "stdout",
     "output_type": "stream",
     "text": [
      "Liste des Collection : ['ETHBUSD', '1INCHBUSD']\n",
      "Liste des Fichiers Chargés de la 1ere collection : ['ETHBUSD-15m-2022-12.csv', 'ETHBUSD-15m-2022-12-22.csv', 'ETHBUSD-15m-2022-12-23.csv', 'ETHBUSD-15m-2022-12-24.csv', 'ETHBUSD-15m-2022-12-25.csv', 'ETHBUSD-15m-2022-12-26.csv', 'ETHBUSD-15m-2022-12-27.csv', 'ETHBUSD-15m-2022-12-28.csv', 'ETHBUSD-15m-2022-12-29.csv', 'ETHBUSD-15m-2022-12-30.csv', 'ETHBUSD-15m-2022-12-31.csv', 'ETHBUSD-15m-2023-01-01.csv', 'ETHBUSD-15m-2023-01-02.csv', 'ETHBUSD-15m-2023-01-03.csv', 'ETHBUSD-15m-2023-01-04.csv', 'ETHBUSD-15m-2023-01-05.csv', 'ETHBUSD-15m-2023-01-06.csv', 'ETHBUSD-15m-2023-01-07.csv', 'ETHBUSD-15m-2023-01-08.csv', 'ETHBUSD-15m-2023-01-09.csv', 'ETHBUSD-15m-2023-01-10.csv', 'ETHBUSD-15m-2023-01-11.csv', 'ETHBUSD-15m-2023-01-12.csv', 'ETHBUSD-15m-2023-01-13.csv', 'ETHBUSD-15m-2023-01-14.csv', 'ETHBUSD-15m-2023-01-15.csv', 'ETHBUSD-15m-2023-01-16.csv', 'ETHBUSD-15m-2023-01-17.csv', 'ETHBUSD-15m-2023-01-18.csv', 'ETHBUSD-15m-2023-01-19.csv', 'ETHBUSD-15m-2023-01-20.csv']\n"
     ]
    }
   ],
   "source": [
    "print('Liste des Collection :',  Y.get_AllCollection())\n",
    "print('Liste des Fichiers Chargés de la 1ere collection :', Y.get_ListeFichier(Y.get_AllCollection()[0]))\n",
    "X.SupprimeFichier()"
   ]
  },
  {
   "cell_type": "markdown",
   "metadata": {},
   "source": [
    "### Step 4:Connexion à la base SQLite"
   ]
  },
  {
   "cell_type": "code",
   "execution_count": 3,
   "metadata": {},
   "outputs": [],
   "source": [
    "#Connexion à la base SQLite\n",
    "\n",
    "PathDatabase = '/home/arnold/ENV_VIRTUEL/ATU_FORMATION/REP_DEV/Projet_OPA/DataBase/SQLite/test.db'\n",
    "SQL = DAO_SQL.Drivers_SQLite(PathDatabase)\n"
   ]
  },
  {
   "cell_type": "code",
   "execution_count": 3,
   "metadata": {},
   "outputs": [],
   "source": [
    "#Reinitialisation de la DataBase (Si besoin)\n",
    "\n",
    "PathCreateTable = '/home/arnold/ENV_VIRTUEL/ATU_FORMATION/REP_DEV/Projet_OPA/Binance/Dao/Create_DBSQLITE_OPA.sql'\n",
    "SQL.Re_InitDB(PathCreateTable)"
   ]
  },
  {
   "cell_type": "markdown",
   "metadata": {},
   "source": [
    "#### Step 4.1: Alimentation Table Dim Temps"
   ]
  },
  {
   "cell_type": "code",
   "execution_count": 26,
   "metadata": {},
   "outputs": [],
   "source": [
    "#Récupération des données temps depuis la Base Mongo\n",
    "\n",
    "Liste_Temps = list(Y.DBMongo[Symbol].find({}, {'Detail.Close_time' : 1, 'Detail.Open_time': 1}))"
   ]
  },
  {
   "cell_type": "code",
   "execution_count": 27,
   "metadata": {},
   "outputs": [
    {
     "data": {
      "text/html": [
       "<div>\n",
       "<style scoped>\n",
       "    .dataframe tbody tr th:only-of-type {\n",
       "        vertical-align: middle;\n",
       "    }\n",
       "\n",
       "    .dataframe tbody tr th {\n",
       "        vertical-align: top;\n",
       "    }\n",
       "\n",
       "    .dataframe thead th {\n",
       "        text-align: right;\n",
       "    }\n",
       "</style>\n",
       "<table border=\"1\" class=\"dataframe\">\n",
       "  <thead>\n",
       "    <tr style=\"text-align: right;\">\n",
       "      <th></th>\n",
       "      <th>ID_TEMPS</th>\n",
       "    </tr>\n",
       "  </thead>\n",
       "  <tbody>\n",
       "    <tr>\n",
       "      <th>0</th>\n",
       "      <td>1672186500000</td>\n",
       "    </tr>\n",
       "    <tr>\n",
       "      <th>1</th>\n",
       "      <td>1672187399999</td>\n",
       "    </tr>\n",
       "    <tr>\n",
       "      <th>2</th>\n",
       "      <td>1672187400000</td>\n",
       "    </tr>\n",
       "    <tr>\n",
       "      <th>3</th>\n",
       "      <td>1672188299999</td>\n",
       "    </tr>\n",
       "    <tr>\n",
       "      <th>4</th>\n",
       "      <td>1672188300000</td>\n",
       "    </tr>\n",
       "  </tbody>\n",
       "</table>\n",
       "</div>"
      ],
      "text/plain": [
       "        ID_TEMPS\n",
       "0  1672186500000\n",
       "1  1672187399999\n",
       "2  1672187400000\n",
       "3  1672188299999\n",
       "4  1672188300000"
      ]
     },
     "execution_count": 27,
     "metadata": {},
     "output_type": "execute_result"
    }
   ],
   "source": [
    "# Formatage du Résultat dns un DataFrame\n",
    "\n",
    "R = list()\n",
    "for i in Liste_Temps :\n",
    "    for y in i['Detail']:\n",
    "        if y['Open_time'] not in R:\n",
    "            R.append(y['Open_time'])\n",
    "        \n",
    "        if y['Close_time'] not in R:\n",
    "            R.append(y['Close_time'])\n",
    "            \n",
    "DimTemps = pd.DataFrame(R, columns = ['ID_TEMPS'] , dtype='int')\n",
    "\n",
    "DimTemps.head()"
   ]
  },
  {
   "cell_type": "code",
   "execution_count": 28,
   "metadata": {},
   "outputs": [
    {
     "data": {
      "text/html": [
       "<div>\n",
       "<style scoped>\n",
       "    .dataframe tbody tr th:only-of-type {\n",
       "        vertical-align: middle;\n",
       "    }\n",
       "\n",
       "    .dataframe tbody tr th {\n",
       "        vertical-align: top;\n",
       "    }\n",
       "\n",
       "    .dataframe thead th {\n",
       "        text-align: right;\n",
       "    }\n",
       "</style>\n",
       "<table border=\"1\" class=\"dataframe\">\n",
       "  <thead>\n",
       "    <tr style=\"text-align: right;\">\n",
       "      <th></th>\n",
       "      <th>ID_TEMPS</th>\n",
       "      <th>SECONDES</th>\n",
       "      <th>MINUTES</th>\n",
       "      <th>HEURE</th>\n",
       "      <th>JOUR</th>\n",
       "      <th>MOIS</th>\n",
       "      <th>ANNEE</th>\n",
       "    </tr>\n",
       "  </thead>\n",
       "  <tbody>\n",
       "    <tr>\n",
       "      <th>0</th>\n",
       "      <td>1672186500000</td>\n",
       "      <td>0</td>\n",
       "      <td>15</td>\n",
       "      <td>1</td>\n",
       "      <td>28</td>\n",
       "      <td>12</td>\n",
       "      <td>2022</td>\n",
       "    </tr>\n",
       "    <tr>\n",
       "      <th>1</th>\n",
       "      <td>1672187399999</td>\n",
       "      <td>59</td>\n",
       "      <td>29</td>\n",
       "      <td>1</td>\n",
       "      <td>28</td>\n",
       "      <td>12</td>\n",
       "      <td>2022</td>\n",
       "    </tr>\n",
       "    <tr>\n",
       "      <th>2</th>\n",
       "      <td>1672187400000</td>\n",
       "      <td>0</td>\n",
       "      <td>30</td>\n",
       "      <td>1</td>\n",
       "      <td>28</td>\n",
       "      <td>12</td>\n",
       "      <td>2022</td>\n",
       "    </tr>\n",
       "    <tr>\n",
       "      <th>3</th>\n",
       "      <td>1672188299999</td>\n",
       "      <td>59</td>\n",
       "      <td>44</td>\n",
       "      <td>1</td>\n",
       "      <td>28</td>\n",
       "      <td>12</td>\n",
       "      <td>2022</td>\n",
       "    </tr>\n",
       "    <tr>\n",
       "      <th>4</th>\n",
       "      <td>1672188300000</td>\n",
       "      <td>0</td>\n",
       "      <td>45</td>\n",
       "      <td>1</td>\n",
       "      <td>28</td>\n",
       "      <td>12</td>\n",
       "      <td>2022</td>\n",
       "    </tr>\n",
       "  </tbody>\n",
       "</table>\n",
       "</div>"
      ],
      "text/plain": [
       "        ID_TEMPS  SECONDES  MINUTES  HEURE  JOUR  MOIS  ANNEE\n",
       "0  1672186500000         0       15      1    28    12   2022\n",
       "1  1672187399999        59       29      1    28    12   2022\n",
       "2  1672187400000         0       30      1    28    12   2022\n",
       "3  1672188299999        59       44      1    28    12   2022\n",
       "4  1672188300000         0       45      1    28    12   2022"
      ]
     },
     "execution_count": 28,
     "metadata": {},
     "output_type": "execute_result"
    }
   ],
   "source": [
    "# Mise à jour du DataFrame au format de la table DimTemps\n",
    "\n",
    "DimTemps['SECONDES'] = DimTemps['ID_TEMPS'].apply(util.Convertir_Timestamp, formatDate=('ss'))\n",
    "DimTemps['MINUTES'] = DimTemps['ID_TEMPS'].apply(util.Convertir_Timestamp, formatDate=('mm'))\n",
    "DimTemps['HEURE'] = DimTemps['ID_TEMPS'].apply(util.Convertir_Timestamp, formatDate=('HH'))\n",
    "DimTemps['JOUR'] = DimTemps['ID_TEMPS'].apply(util.Convertir_Timestamp, formatDate=('DD'))\n",
    "DimTemps['MOIS'] = DimTemps['ID_TEMPS'].apply(util.Convertir_Timestamp, formatDate=('MM'))\n",
    "DimTemps['ANNEE'] = DimTemps['ID_TEMPS'].apply(util.Convertir_Timestamp, formatDate=('YYYY'))\n",
    "    \n",
    "DimTemps.head(5)"
   ]
  },
  {
   "cell_type": "code",
   "execution_count": 29,
   "metadata": {},
   "outputs": [
    {
     "name": "stdout",
     "output_type": "stream",
     "text": [
      "[(1672186500000, '0', '15', '1', '28', '12', '2022', '2023-01-27'), (1672187399999, '59', '29', '1', '28', '12', '2022', '2023-01-27'), (1672187400000, '0', '30', '1', '28', '12', '2022', '2023-01-27'), (1672188299999, '59', '44', '1', '28', '12', '2022', '2023-01-27'), (1672188300000, '0', '45', '1', '28', '12', '2022', '2023-01-27')]\n"
     ]
    }
   ],
   "source": [
    "# Alimentation Table Dim_Temps\n",
    "\n",
    "SQL.Alim_DimTemps(DimTemps)\n",
    "res = SQL.Select('select * from DIM_TEMPS limit 5;')\n",
    "print(res)\n"
   ]
  },
  {
   "cell_type": "markdown",
   "metadata": {},
   "source": [
    "#### Step 4.2: Alimentation Table Dim Symbol"
   ]
  },
  {
   "cell_type": "code",
   "execution_count": 30,
   "metadata": {},
   "outputs": [],
   "source": [
    "#Récupération des données symbole depuis la Base Mongo\n",
    "\n",
    "Liste_Symbole = list(Y.DBMongo[Symbol].find({}, {\"Symbol\" : 1, \"Intervalle\" : 1, \"_id\" : 0}))\n",
    "\n",
    "R2 = list()\n",
    "for i in Liste_Symbole:\n",
    "    a = {\"NOM_SYMBOL\" : i['Symbol'], \"INTERVALLE\" : i['Intervalle']} \n",
    "    if a not in R2:\n",
    "        R2.append(a)\n",
    "        \n",
    "DimSymbol = pd.DataFrame(R2)"
   ]
  },
  {
   "cell_type": "code",
   "execution_count": 31,
   "metadata": {},
   "outputs": [],
   "source": [
    "# On compléte le df Symbol\n",
    "\n",
    "DLive = live.Binance_Live()\n",
    "Info_symbol = DLive.exchange_info(Symbol)\n",
    "\n",
    "\n",
    "i = {'NOM_SYMBOL' : Info_symbol['symbols'][0]['symbol'],\n",
    "                              'BaseAsset' : Info_symbol['symbols'][0]['baseAsset'],\n",
    "                              'QuoteAsset' : Info_symbol['symbols'][0]['quoteAsset']}\n",
    "df = pd.DataFrame([i ])\n",
    "DimSymbol = DimSymbol.merge(df, on = 'NOM_SYMBOL' )\n",
    "\n"
   ]
  },
  {
   "cell_type": "code",
   "execution_count": 32,
   "metadata": {},
   "outputs": [
    {
     "name": "stdout",
     "output_type": "stream",
     "text": [
      "[(1, '1INCHBUSD', '15m', '1INCH', 'BUSD', '2023-01-27'), (2, '1INCHBUSD', '30m', '1INCH', 'BUSD', '2023-01-27')]\n"
     ]
    }
   ],
   "source": [
    "SQL.Alim_DimSymbol(DimSymbol)\n",
    "res = SQL.Select('select * from DIM_SYMBOL limit 5;')\n",
    "print(res)\n",
    "            "
   ]
  },
  {
   "cell_type": "markdown",
   "metadata": {},
   "source": [
    "#### Step 4.3: Alimentation Table Fait Situation Histo"
   ]
  },
  {
   "cell_type": "code",
   "execution_count": 4,
   "metadata": {},
   "outputs": [
    {
     "data": {
      "text/html": [
       "<div>\n",
       "<style scoped>\n",
       "    .dataframe tbody tr th:only-of-type {\n",
       "        vertical-align: middle;\n",
       "    }\n",
       "\n",
       "    .dataframe tbody tr th {\n",
       "        vertical-align: top;\n",
       "    }\n",
       "\n",
       "    .dataframe thead th {\n",
       "        text-align: right;\n",
       "    }\n",
       "</style>\n",
       "<table border=\"1\" class=\"dataframe\">\n",
       "  <thead>\n",
       "    <tr style=\"text-align: right;\">\n",
       "      <th></th>\n",
       "      <th>ID_TEMPS</th>\n",
       "      <th>NOM_SYMBOL</th>\n",
       "      <th>INTERVALLE</th>\n",
       "      <th>VALEUR_COURS</th>\n",
       "      <th>IND_QUOTEVOLUME</th>\n",
       "    </tr>\n",
       "  </thead>\n",
       "  <tbody>\n",
       "    <tr>\n",
       "      <th>0</th>\n",
       "      <td>1672187399999</td>\n",
       "      <td>1INCHBUSD</td>\n",
       "      <td>15m</td>\n",
       "      <td>0.400</td>\n",
       "      <td>1528.0350</td>\n",
       "    </tr>\n",
       "    <tr>\n",
       "      <th>1</th>\n",
       "      <td>1672188299999</td>\n",
       "      <td>1INCHBUSD</td>\n",
       "      <td>15m</td>\n",
       "      <td>0.401</td>\n",
       "      <td>617.5766</td>\n",
       "    </tr>\n",
       "    <tr>\n",
       "      <th>2</th>\n",
       "      <td>1672189199999</td>\n",
       "      <td>1INCHBUSD</td>\n",
       "      <td>15m</td>\n",
       "      <td>0.401</td>\n",
       "      <td>2508.1021</td>\n",
       "    </tr>\n",
       "    <tr>\n",
       "      <th>3</th>\n",
       "      <td>1672190099999</td>\n",
       "      <td>1INCHBUSD</td>\n",
       "      <td>15m</td>\n",
       "      <td>0.398</td>\n",
       "      <td>4721.6602</td>\n",
       "    </tr>\n",
       "    <tr>\n",
       "      <th>4</th>\n",
       "      <td>1672190999999</td>\n",
       "      <td>1INCHBUSD</td>\n",
       "      <td>15m</td>\n",
       "      <td>0.400</td>\n",
       "      <td>3128.6852</td>\n",
       "    </tr>\n",
       "  </tbody>\n",
       "</table>\n",
       "</div>"
      ],
      "text/plain": [
       "        ID_TEMPS NOM_SYMBOL INTERVALLE  VALEUR_COURS  IND_QUOTEVOLUME\n",
       "0  1672187399999  1INCHBUSD        15m         0.400        1528.0350\n",
       "1  1672188299999  1INCHBUSD        15m         0.401         617.5766\n",
       "2  1672189199999  1INCHBUSD        15m         0.401        2508.1021\n",
       "3  1672190099999  1INCHBUSD        15m         0.398        4721.6602\n",
       "4  1672190999999  1INCHBUSD        15m         0.400        3128.6852"
      ]
     },
     "execution_count": 4,
     "metadata": {},
     "output_type": "execute_result"
    }
   ],
   "source": [
    "# Récupération des données Histo de la base Mongo\n",
    "L = list()\n",
    "\n",
    "for doc in Y.get_AllDocuments(Symbol):\n",
    "    for detail in doc['Detail']:\n",
    "        L.append({'ID_TEMPS' :detail['Close_time'], \n",
    "                  'NOM_SYMBOL' : doc['Symbol'], \n",
    "                  'INTERVALLE' : doc['Intervalle'], \n",
    "                  'VALEUR_COURS' : detail['Close'] ,\n",
    "                  'IND_QUOTEVOLUME' : detail['Quote_asset_volume'] \n",
    "                 })\n",
    "\n",
    "FaiCoursHisto = pd.DataFrame(L)\n",
    "FaiCoursHisto['ID_TEMPS'] = FaiCoursHisto['ID_TEMPS'].astype(int)\n",
    "\n",
    "FaiCoursHisto.head()\n"
   ]
  },
  {
   "cell_type": "code",
   "execution_count": 5,
   "metadata": {},
   "outputs": [
    {
     "data": {
      "text/html": [
       "<div>\n",
       "<style scoped>\n",
       "    .dataframe tbody tr th:only-of-type {\n",
       "        vertical-align: middle;\n",
       "    }\n",
       "\n",
       "    .dataframe tbody tr th {\n",
       "        vertical-align: top;\n",
       "    }\n",
       "\n",
       "    .dataframe thead th {\n",
       "        text-align: right;\n",
       "    }\n",
       "</style>\n",
       "<table border=\"1\" class=\"dataframe\">\n",
       "  <thead>\n",
       "    <tr style=\"text-align: right;\">\n",
       "      <th></th>\n",
       "      <th>ID_TEMPS</th>\n",
       "      <th>NOM_SYMBOL</th>\n",
       "      <th>INTERVALLE</th>\n",
       "      <th>VALEUR_COURS</th>\n",
       "      <th>IND_QUOTEVOLUME</th>\n",
       "      <th>ID_SYMBOL</th>\n",
       "    </tr>\n",
       "  </thead>\n",
       "  <tbody>\n",
       "    <tr>\n",
       "      <th>0</th>\n",
       "      <td>1672187399999</td>\n",
       "      <td>1INCHBUSD</td>\n",
       "      <td>15m</td>\n",
       "      <td>0.400</td>\n",
       "      <td>1528.0350</td>\n",
       "      <td>1</td>\n",
       "    </tr>\n",
       "    <tr>\n",
       "      <th>1</th>\n",
       "      <td>1672188299999</td>\n",
       "      <td>1INCHBUSD</td>\n",
       "      <td>15m</td>\n",
       "      <td>0.401</td>\n",
       "      <td>617.5766</td>\n",
       "      <td>1</td>\n",
       "    </tr>\n",
       "    <tr>\n",
       "      <th>2</th>\n",
       "      <td>1672189199999</td>\n",
       "      <td>1INCHBUSD</td>\n",
       "      <td>15m</td>\n",
       "      <td>0.401</td>\n",
       "      <td>2508.1021</td>\n",
       "      <td>1</td>\n",
       "    </tr>\n",
       "    <tr>\n",
       "      <th>3</th>\n",
       "      <td>1672190099999</td>\n",
       "      <td>1INCHBUSD</td>\n",
       "      <td>15m</td>\n",
       "      <td>0.398</td>\n",
       "      <td>4721.6602</td>\n",
       "      <td>1</td>\n",
       "    </tr>\n",
       "    <tr>\n",
       "      <th>4</th>\n",
       "      <td>1672190999999</td>\n",
       "      <td>1INCHBUSD</td>\n",
       "      <td>15m</td>\n",
       "      <td>0.400</td>\n",
       "      <td>3128.6852</td>\n",
       "      <td>1</td>\n",
       "    </tr>\n",
       "  </tbody>\n",
       "</table>\n",
       "</div>"
      ],
      "text/plain": [
       "        ID_TEMPS NOM_SYMBOL INTERVALLE  VALEUR_COURS  IND_QUOTEVOLUME  \\\n",
       "0  1672187399999  1INCHBUSD        15m         0.400        1528.0350   \n",
       "1  1672188299999  1INCHBUSD        15m         0.401         617.5766   \n",
       "2  1672189199999  1INCHBUSD        15m         0.401        2508.1021   \n",
       "3  1672190099999  1INCHBUSD        15m         0.398        4721.6602   \n",
       "4  1672190999999  1INCHBUSD        15m         0.400        3128.6852   \n",
       "\n",
       "   ID_SYMBOL  \n",
       "0          1  \n",
       "1          1  \n",
       "2          1  \n",
       "3          1  \n",
       "4          1  "
      ]
     },
     "execution_count": 5,
     "metadata": {},
     "output_type": "execute_result"
    }
   ],
   "source": [
    "#Recherche Id Symbol à partir de la base SQL\n",
    "L = list()\n",
    "\n",
    "res = SQL.Select('select ID_SYMBOL,NOM_SYMBOL,INTERVALLE  from DIM_SYMBOL;')\n",
    "\n",
    "for i in res:\n",
    "    (a,b,c) = i\n",
    "    L.append({'ID_SYMBOL' : a, 'NOM_SYMBOL' : b, 'INTERVALLE' : c})\n",
    "    \n",
    "df = pd.DataFrame(L)\n",
    "\n",
    "FaiCoursHisto = FaiCoursHisto.merge(df, how = 'inner')\n",
    "\n",
    "FaiCoursHisto.head()"
   ]
  },
  {
   "cell_type": "code",
   "execution_count": 6,
   "metadata": {},
   "outputs": [
    {
     "data": {
      "text/html": [
       "<div>\n",
       "<style scoped>\n",
       "    .dataframe tbody tr th:only-of-type {\n",
       "        vertical-align: middle;\n",
       "    }\n",
       "\n",
       "    .dataframe tbody tr th {\n",
       "        vertical-align: top;\n",
       "    }\n",
       "\n",
       "    .dataframe thead th {\n",
       "        text-align: right;\n",
       "    }\n",
       "</style>\n",
       "<table border=\"1\" class=\"dataframe\">\n",
       "  <thead>\n",
       "    <tr style=\"text-align: right;\">\n",
       "      <th></th>\n",
       "      <th>ID_TEMPS</th>\n",
       "      <th>ID_SYMBOL</th>\n",
       "      <th>VALEUR_COURS</th>\n",
       "      <th>IND_SMA_20</th>\n",
       "      <th>IND_SMA_30</th>\n",
       "      <th>IND_QUOTEVOLUME</th>\n",
       "      <th>IND_CHANGEPERCENT</th>\n",
       "      <th>IND_STOCH_RSI</th>\n",
       "      <th>IND_RSI</th>\n",
       "      <th>IND_TRIX</th>\n",
       "    </tr>\n",
       "  </thead>\n",
       "  <tbody>\n",
       "    <tr>\n",
       "      <th>0</th>\n",
       "      <td>1672187399999</td>\n",
       "      <td>1</td>\n",
       "      <td>0.400</td>\n",
       "      <td>NaN</td>\n",
       "      <td>NaN</td>\n",
       "      <td>1528.0350</td>\n",
       "      <td>0</td>\n",
       "      <td>NaN</td>\n",
       "      <td>NaN</td>\n",
       "      <td>NaN</td>\n",
       "    </tr>\n",
       "    <tr>\n",
       "      <th>1</th>\n",
       "      <td>1672188299999</td>\n",
       "      <td>1</td>\n",
       "      <td>0.401</td>\n",
       "      <td>NaN</td>\n",
       "      <td>NaN</td>\n",
       "      <td>617.5766</td>\n",
       "      <td>0</td>\n",
       "      <td>NaN</td>\n",
       "      <td>NaN</td>\n",
       "      <td>NaN</td>\n",
       "    </tr>\n",
       "    <tr>\n",
       "      <th>2</th>\n",
       "      <td>1672189199999</td>\n",
       "      <td>1</td>\n",
       "      <td>0.401</td>\n",
       "      <td>NaN</td>\n",
       "      <td>NaN</td>\n",
       "      <td>2508.1021</td>\n",
       "      <td>0</td>\n",
       "      <td>NaN</td>\n",
       "      <td>NaN</td>\n",
       "      <td>NaN</td>\n",
       "    </tr>\n",
       "    <tr>\n",
       "      <th>3</th>\n",
       "      <td>1672190099999</td>\n",
       "      <td>1</td>\n",
       "      <td>0.398</td>\n",
       "      <td>NaN</td>\n",
       "      <td>NaN</td>\n",
       "      <td>4721.6602</td>\n",
       "      <td>0</td>\n",
       "      <td>NaN</td>\n",
       "      <td>NaN</td>\n",
       "      <td>NaN</td>\n",
       "    </tr>\n",
       "    <tr>\n",
       "      <th>4</th>\n",
       "      <td>1672190999999</td>\n",
       "      <td>1</td>\n",
       "      <td>0.400</td>\n",
       "      <td>NaN</td>\n",
       "      <td>NaN</td>\n",
       "      <td>3128.6852</td>\n",
       "      <td>0</td>\n",
       "      <td>NaN</td>\n",
       "      <td>NaN</td>\n",
       "      <td>NaN</td>\n",
       "    </tr>\n",
       "  </tbody>\n",
       "</table>\n",
       "</div>"
      ],
      "text/plain": [
       "        ID_TEMPS  ID_SYMBOL  VALEUR_COURS  IND_SMA_20  IND_SMA_30  \\\n",
       "0  1672187399999          1         0.400         NaN         NaN   \n",
       "1  1672188299999          1         0.401         NaN         NaN   \n",
       "2  1672189199999          1         0.401         NaN         NaN   \n",
       "3  1672190099999          1         0.398         NaN         NaN   \n",
       "4  1672190999999          1         0.400         NaN         NaN   \n",
       "\n",
       "   IND_QUOTEVOLUME  IND_CHANGEPERCENT  IND_STOCH_RSI  IND_RSI  IND_TRIX  \n",
       "0        1528.0350                  0            NaN      NaN       NaN  \n",
       "1         617.5766                  0            NaN      NaN       NaN  \n",
       "2        2508.1021                  0            NaN      NaN       NaN  \n",
       "3        4721.6602                  0            NaN      NaN       NaN  \n",
       "4        3128.6852                  0            NaN      NaN       NaN  "
      ]
     },
     "execution_count": 6,
     "metadata": {},
     "output_type": "execute_result"
    }
   ],
   "source": [
    "# Calcul des Indicateurs\n",
    "FaiCoursHisto['IND_SMA_20'] = util_TA.Calculer_SMA(FaiCoursHisto['VALEUR_COURS'], 20)\n",
    "FaiCoursHisto['IND_SMA_30'] = util_TA.Calculer_SMA(FaiCoursHisto['VALEUR_COURS'], 30)\n",
    "FaiCoursHisto['IND_CHANGEPERCENT'] = 0\n",
    "FaiCoursHisto['IND_STOCH_RSI'] = util_TA.Calculer_RSI_Stochastique(FaiCoursHisto['VALEUR_COURS'])\n",
    "FaiCoursHisto['IND_RSI'] =  util_TA.Calculer_RSI(FaiCoursHisto['VALEUR_COURS'])\n",
    "FaiCoursHisto['IND_TRIX'] = util_TA.calculate_trix(FaiCoursHisto['VALEUR_COURS'])\n",
    "\n",
    "FaiCoursHisto = FaiCoursHisto[['ID_TEMPS',  'ID_SYMBOL','VALEUR_COURS', 'IND_SMA_20', 'IND_SMA_30', 'IND_QUOTEVOLUME', 'IND_CHANGEPERCENT', 'IND_STOCH_RSI', 'IND_RSI', 'IND_TRIX']]\n",
    "\n",
    "FaiCoursHisto.head(5)"
   ]
  },
  {
   "cell_type": "code",
   "execution_count": 7,
   "metadata": {},
   "outputs": [
    {
     "name": "stdout",
     "output_type": "stream",
     "text": [
      "[(1, 1672187399999, 1, 0.4, None, None, 1528.035, 0, None, None, None, '2023-01-27'), (2, 1672188299999, 1, 0.401, None, None, 617.5766, 0, None, None, None, '2023-01-27'), (3, 1672189199999, 1, 0.401, None, None, 2508.1021, 0, None, None, None, '2023-01-27'), (4, 1672190099999, 1, 0.398, None, None, 4721.6602, 0, None, None, None, '2023-01-27'), (5, 1672190999999, 1, 0.4, None, None, 3128.6852, 0, None, None, None, '2023-01-27')]\n"
     ]
    }
   ],
   "source": [
    "# Alimentation table SQL\n",
    "\n",
    "SQL.Alim_FaitSituation_Histo(FaiCoursHisto)\n",
    "res = SQL.Select('select * from FAIT_SIT_COURS_HIST limit 5;')\n",
    "print(res)\n",
    "            "
   ]
  }
 ],
 "metadata": {
  "kernelspec": {
   "display_name": "Python 3 (ipykernel)",
   "language": "python",
   "name": "python3"
  },
  "language_info": {
   "codemirror_mode": {
    "name": "ipython",
    "version": 3
   },
   "file_extension": ".py",
   "mimetype": "text/x-python",
   "name": "python",
   "nbconvert_exporter": "python",
   "pygments_lexer": "ipython3",
   "version": "3.8.10"
  },
  "vscode": {
   "interpreter": {
    "hash": "916dbcbb3f70747c44a77c7bcd40155683ae19c65e1c03b4aa3499c5328201f1"
   }
  }
 },
 "nbformat": 4,
 "nbformat_minor": 2
}
