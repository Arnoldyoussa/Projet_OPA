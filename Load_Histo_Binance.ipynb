{
 "cells": [
  {
   "cell_type": "markdown",
   "metadata": {},
   "source": [
    "# Projet : CryptoBot avec Binance (OPA)\n",
    "\n",
    "## Phase 2 : Organisation des Données"
   ]
  },
  {
   "cell_type": "markdown",
   "metadata": {},
   "source": [
    "### Objectif du Document:"
   ]
  },
  {
   "attachments": {},
   "cell_type": "markdown",
   "metadata": {},
   "source": [
    "Ce doc a pour but de présenter les différentes étapes pour : \n",
    "- Réupérer une donnée Historique, \n",
    "- Alimenter la Base Mongo, \n",
    "- Alimenter la table SQL Histo\n",
    "\n",
    "    TO DO\n",
    "1-decision achat on part de 1000€ janvier reel 2020 - > today\n",
    "2- 15min 30 min\n",
    "3-"
   ]
  },
  {
   "cell_type": "markdown",
   "metadata": {},
   "source": [
    "### Step 1:  Initialisation des Modules"
   ]
  },
  {
   "cell_type": "code",
   "execution_count": 2,
   "metadata": {},
   "outputs": [],
   "source": [
    "# Importation des bibliothèques nécessaires\n",
    "from Binance.Data import Binance_Histo as Histo\n",
    "from Binance.Data import Binance_Live as live\n",
    "from Binance.Dao import Drivers_MongoDB as DAO_MB\n",
    "from Binance.Dao import Drivers_SQlite as DAO_SQL\n",
    "from Binance.Utils import Utilitaire as util\n",
    "from Binance.Utils import Technical_Analyst as util_TA\n",
    "import pandas as pd\n",
    "import csv\n",
    "\n",
    "# Définition de la paire, de l'intervalle, des codes API et de la date de début\n",
    "G_Symbol = 'ETHUSDT'  # La paire de devises à étudier\n",
    "#G_Symbol = 'BTCUSDT'\n",
    "G_Interval = \"15m\"  # L'intervalle de temps pour les données historiques (15 minutes dans ce cas)\n",
    "G_Api_Key= \"7D2zP6PkcRVmrP3KiYfePPrCeJmio8zHZKNeEtwFbHtgK6DNbWse4auahLHglgwf\"  # Votre clé API Binance\n",
    "G_Api_Secret= \"0vZzdRUXlnoZLWYfeFi4nqFkszxnEIgw18qYlSKbEW9izxDnqKHKqugX6T5Yv129\"  # Votre clé secrète API Binance\n",
    "G_Start_Date=\"2022-12-01\"  # La date de début pour les données historiques\n",
    "G_Nom_BDD_SQL=\"qqs.db\" #Le nom de la BDD"
   ]
  },
  {
   "cell_type": "markdown",
   "metadata": {},
   "source": [
    "### Step 2: Chargement Fichiers Historique "
   ]
  },
  {
   "cell_type": "code",
   "execution_count": 3,
   "metadata": {},
   "outputs": [],
   "source": [
    "# Instanciation de l'objet 'L_Client' de la classe 'Binance_Histo' en utilisant les clés API et clés secrètes API préalablement déclarées\n",
    "L_Client = Histo.Binance_Histo(G_Api_Key, G_Api_Secret) \n",
    "\n",
    "# Récupération de l'historique des prix de la paire 'G_Symbol' sur l'intervalle de temps 'G_Interval' et à partir de la date 'G_Start_Date' en utilisant l'objet 'L_Client'\n",
    "L_DF_Historique_Paire = L_Client.get_data(G_Symbol, G_Interval, G_Start_Date)\n"
   ]
  },
  {
   "cell_type": "code",
   "execution_count": 4,
   "metadata": {},
   "outputs": [
    {
     "data": {
      "text/html": [
       "<div>\n",
       "<style scoped>\n",
       "    .dataframe tbody tr th:only-of-type {\n",
       "        vertical-align: middle;\n",
       "    }\n",
       "\n",
       "    .dataframe tbody tr th {\n",
       "        vertical-align: top;\n",
       "    }\n",
       "\n",
       "    .dataframe thead th {\n",
       "        text-align: right;\n",
       "    }\n",
       "</style>\n",
       "<table border=\"1\" class=\"dataframe\">\n",
       "  <thead>\n",
       "    <tr style=\"text-align: right;\">\n",
       "      <th></th>\n",
       "      <th>Symbol</th>\n",
       "      <th>Interval</th>\n",
       "      <th>Open_time</th>\n",
       "      <th>Open</th>\n",
       "      <th>High</th>\n",
       "      <th>Low</th>\n",
       "      <th>Close</th>\n",
       "      <th>Volume</th>\n",
       "      <th>Close_time</th>\n",
       "      <th>Quote_asset_volume</th>\n",
       "      <th>Nb_of_trades</th>\n",
       "      <th>Taker_buy_base_asset_volume</th>\n",
       "      <th>Taker_buy_quote_asset_volume</th>\n",
       "      <th>ignore</th>\n",
       "    </tr>\n",
       "  </thead>\n",
       "  <tbody>\n",
       "    <tr>\n",
       "      <th>0</th>\n",
       "      <td>ETHUSDT</td>\n",
       "      <td>15m</td>\n",
       "      <td>1669852800000</td>\n",
       "      <td>1294.46000000</td>\n",
       "      <td>1295.82000000</td>\n",
       "      <td>1288.39000000</td>\n",
       "      <td>1293.81000000</td>\n",
       "      <td>9533.91720000</td>\n",
       "      <td>1669853699999</td>\n",
       "      <td>12325576.69518400</td>\n",
       "      <td>9611</td>\n",
       "      <td>5229.78410000</td>\n",
       "      <td>6761334.07419000</td>\n",
       "      <td>0</td>\n",
       "    </tr>\n",
       "    <tr>\n",
       "      <th>1</th>\n",
       "      <td>ETHUSDT</td>\n",
       "      <td>15m</td>\n",
       "      <td>1669853700000</td>\n",
       "      <td>1293.81000000</td>\n",
       "      <td>1295.88000000</td>\n",
       "      <td>1290.00000000</td>\n",
       "      <td>1291.84000000</td>\n",
       "      <td>5721.59560000</td>\n",
       "      <td>1669854599999</td>\n",
       "      <td>7398506.66031900</td>\n",
       "      <td>7626</td>\n",
       "      <td>3218.31670000</td>\n",
       "      <td>4161740.98319900</td>\n",
       "      <td>0</td>\n",
       "    </tr>\n",
       "    <tr>\n",
       "      <th>2</th>\n",
       "      <td>ETHUSDT</td>\n",
       "      <td>15m</td>\n",
       "      <td>1669854600000</td>\n",
       "      <td>1291.83000000</td>\n",
       "      <td>1292.82000000</td>\n",
       "      <td>1287.95000000</td>\n",
       "      <td>1288.66000000</td>\n",
       "      <td>4404.82900000</td>\n",
       "      <td>1669855499999</td>\n",
       "      <td>5681461.36079600</td>\n",
       "      <td>7246</td>\n",
       "      <td>2000.58770000</td>\n",
       "      <td>2580527.46217300</td>\n",
       "      <td>0</td>\n",
       "    </tr>\n",
       "    <tr>\n",
       "      <th>3</th>\n",
       "      <td>ETHUSDT</td>\n",
       "      <td>15m</td>\n",
       "      <td>1669855500000</td>\n",
       "      <td>1288.66000000</td>\n",
       "      <td>1291.30000000</td>\n",
       "      <td>1286.21000000</td>\n",
       "      <td>1290.21000000</td>\n",
       "      <td>4207.72510000</td>\n",
       "      <td>1669856399999</td>\n",
       "      <td>5422822.43608200</td>\n",
       "      <td>6167</td>\n",
       "      <td>2042.75030000</td>\n",
       "      <td>2632766.47844600</td>\n",
       "      <td>0</td>\n",
       "    </tr>\n",
       "    <tr>\n",
       "      <th>4</th>\n",
       "      <td>ETHUSDT</td>\n",
       "      <td>15m</td>\n",
       "      <td>1669856400000</td>\n",
       "      <td>1290.21000000</td>\n",
       "      <td>1292.74000000</td>\n",
       "      <td>1286.33000000</td>\n",
       "      <td>1287.70000000</td>\n",
       "      <td>5935.85190000</td>\n",
       "      <td>1669857299999</td>\n",
       "      <td>7652754.18607700</td>\n",
       "      <td>6695</td>\n",
       "      <td>3584.78070000</td>\n",
       "      <td>4623931.96407100</td>\n",
       "      <td>0</td>\n",
       "    </tr>\n",
       "  </tbody>\n",
       "</table>\n",
       "</div>"
      ],
      "text/plain": [
       "    Symbol Interval      Open_time           Open           High  \\\n",
       "0  ETHUSDT      15m  1669852800000  1294.46000000  1295.82000000   \n",
       "1  ETHUSDT      15m  1669853700000  1293.81000000  1295.88000000   \n",
       "2  ETHUSDT      15m  1669854600000  1291.83000000  1292.82000000   \n",
       "3  ETHUSDT      15m  1669855500000  1288.66000000  1291.30000000   \n",
       "4  ETHUSDT      15m  1669856400000  1290.21000000  1292.74000000   \n",
       "\n",
       "             Low          Close         Volume     Close_time  \\\n",
       "0  1288.39000000  1293.81000000  9533.91720000  1669853699999   \n",
       "1  1290.00000000  1291.84000000  5721.59560000  1669854599999   \n",
       "2  1287.95000000  1288.66000000  4404.82900000  1669855499999   \n",
       "3  1286.21000000  1290.21000000  4207.72510000  1669856399999   \n",
       "4  1286.33000000  1287.70000000  5935.85190000  1669857299999   \n",
       "\n",
       "  Quote_asset_volume  Nb_of_trades Taker_buy_base_asset_volume  \\\n",
       "0  12325576.69518400          9611               5229.78410000   \n",
       "1   7398506.66031900          7626               3218.31670000   \n",
       "2   5681461.36079600          7246               2000.58770000   \n",
       "3   5422822.43608200          6167               2042.75030000   \n",
       "4   7652754.18607700          6695               3584.78070000   \n",
       "\n",
       "  Taker_buy_quote_asset_volume ignore  \n",
       "0             6761334.07419000      0  \n",
       "1             4161740.98319900      0  \n",
       "2             2580527.46217300      0  \n",
       "3             2632766.47844600      0  \n",
       "4             4623931.96407100      0  "
      ]
     },
     "execution_count": 4,
     "metadata": {},
     "output_type": "execute_result"
    }
   ],
   "source": [
    " \n",
    "L_DF_Historique_Paire.head(5)"
   ]
  },
  {
   "cell_type": "code",
   "execution_count": 5,
   "metadata": {},
   "outputs": [],
   "source": [
    "# Suppression de la colonne 'ignore'\n",
    "L_DF_Historique_Paire_Update = L_DF_Historique_Paire.drop('ignore', axis=1)\n",
    "\n",
    "# Conversion de la colonne 'Close' en flottant\n",
    "L_DF_Historique_Paire_Update['Close']  = L_DF_Historique_Paire_Update['Close'].astype(float)\n",
    "\n",
    "# Conversion de la colonne 'Open' en flottant\n",
    "L_DF_Historique_Paire_Update['Open']  = L_DF_Historique_Paire_Update['Open'].astype(float)\n"
   ]
  },
  {
   "cell_type": "markdown",
   "metadata": {},
   "source": [
    "### Step 4:Connexion à la base SQLite"
   ]
  },
  {
   "cell_type": "code",
   "execution_count": 6,
   "metadata": {},
   "outputs": [],
   "source": [
    "# Instanciation d'un objet Drivers_SQLite avec le nom de la base de données\n",
    "L_Connexion_SQL = DAO_SQL.Drivers_SQLite(G_Nom_BDD_SQL)"
   ]
  },
  {
   "cell_type": "code",
   "execution_count": 7,
   "metadata": {},
   "outputs": [],
   "source": [
    "# Calcul des Indicateurs\n",
    "\n",
    "L_DF_Historique_Paire_Update['IND_SMA_20'] = util_TA.Calculer_SMA(L_DF_Historique_Paire_Update['Close'], 20)\n",
    "\n",
    "L_DF_Historique_Paire_Update['IND_SMA_30'] = util_TA.Calculer_SMA(L_DF_Historique_Paire_Update['Close'], 30)\n",
    " \n",
    "L_DF_Historique_Paire_Update['IND_CHANGEPERCENT'] = util_TA.Calculer_Change_Percent(L_DF_Historique_Paire_Update['Close'])\n",
    "\n",
    "L_DF_Historique_Paire_Update['IND_STOCH_RSI'] = util_TA.Calculer_RSI_Stochastique(L_DF_Historique_Paire_Update['Close'])\n",
    " \n",
    "L_DF_Historique_Paire_Update['IND_EMA'] = util_TA.Calculer_Ema_200(L_DF_Historique_Paire_Update['Close'])\n",
    "L_DF_Historique_Paire_Update['IND_RSI'] =  util_TA.Calculer_RSI(L_DF_Historique_Paire_Update['Close'])\n",
    "\n",
    "L_DF_Historique_Paire_Update['IND_TRIX']  = util_TA.Calculer_trix(L_DF_Historique_Paire_Update['Close'])\n",
    "L_DF_Historique_Paire_Update['IND_TRIX_HISTO']  = util_TA.Calculer_trix(L_DF_Historique_Paire_Update['Close'])\n",
    "#conversion timestamp en date formatté\n",
    "L_DF_Historique_Paire_Update['OPEN_TIME'] = L_DF_Historique_Paire_Update['Open_time'].apply(lambda x: pd.to_datetime(x, unit='ms').strftime('%Y-%m-%d %H:%M:%S'))\n",
    "\n",
    "\n",
    "  \n",
    "L_DF_Historique_Paire_Final = L_DF_Historique_Paire_Update[['OPEN_TIME','Symbol','Interval','Open','Close','IND_SMA_20', 'IND_SMA_30', 'Volume', 'IND_CHANGEPERCENT', 'IND_STOCH_RSI', 'IND_RSI', 'IND_TRIX','IND_TRIX_HISTO','IND_EMA']]\n",
    " \n",
    " \n"
   ]
  },
  {
   "cell_type": "code",
   "execution_count": 8,
   "metadata": {},
   "outputs": [
    {
     "name": "stdout",
     "output_type": "stream",
     "text": [
      "7668 ligne inséré\n"
     ]
    }
   ],
   "source": [
    "# Insérer les données de l'historique de la paire dans la table \"fait_situation_histo\" de la base de données\n",
    "L_Resultat=L_Connexion_SQL.Alim_FaitSituation_Histo(L_DF_Historique_Paire_Final)\n",
    "\n",
    "# Afficher le nombre de lignes insérées\n",
    "print(L_Resultat, \"lignes insérées\")\n",
    "\n",
    "# Fermer la connexion à la base de données\n",
    "L_Connexion_SQL.CloseConnection()\n"
   ]
  },
  {
   "cell_type": "code",
   "execution_count": 15,
   "metadata": {},
   "outputs": [
    {
     "name": "stderr",
     "output_type": "stream",
     "text": [
      "g:\\Mon Drive\\Datascience\\1-OPA\\Binance\\Utils\\Technical_Analyst.py:92: SettingWithCopyWarning: \n",
      "A value is trying to be set on a copy of a slice from a DataFrame.\n",
      "Try using .loc[row_indexer,col_indexer] = value instead\n",
      "\n",
      "See the caveats in the documentation: https://pandas.pydata.org/pandas-docs/stable/user_guide/indexing.html#returning-a-view-versus-a-copy\n",
      "  df['Signal'] = pd.Series('No Buy', index=df.index)\n",
      "C:\\Users\\wari\\AppData\\Local\\Temp\\ipykernel_7600\\3486327298.py:2: SettingWithCopyWarning: \n",
      "A value is trying to be set on a copy of a slice from a DataFrame.\n",
      "Try using .loc[row_indexer,col_indexer] = value instead\n",
      "\n",
      "See the caveats in the documentation: https://pandas.pydata.org/pandas-docs/stable/user_guide/indexing.html#returning-a-view-versus-a-copy\n",
      "  L_DF_Historique_Paire_Final['Recommandation'] = util_TA.get_buy_sell_signal(L_DF_Historique_Paire_Final)\n",
      "C:\\Users\\wari\\AppData\\Local\\Temp\\ipykernel_7600\\3486327298.py:4: SettingWithCopyWarning: \n",
      "A value is trying to be set on a copy of a slice from a DataFrame.\n",
      "Try using .loc[row_indexer,col_indexer] = value instead\n",
      "\n",
      "See the caveats in the documentation: https://pandas.pydata.org/pandas-docs/stable/user_guide/indexing.html#returning-a-view-versus-a-copy\n",
      "  L_DF_Historique_Paire_Final['decision'] = util_TA.verifier_decision_achat(L_DF_Historique_Paire_Final)['Decision']\n"
     ]
    },
    {
     "name": "stdout",
     "output_type": "stream",
     "text": [
      "Votre montant s'eleve a : 233472.66000000015 €\n"
     ]
    }
   ],
   "source": [
    "\n",
    " \n",
    " \n",
    "# Ajout de la colonne 'Recommandation' avec les signaux d'achat/vente\n",
    "L_DF_Historique_Paire_Final['Recommandation'] = util_TA.get_buy_sell_signal(L_DF_Historique_Paire_Final)\n",
    "# Ajout de la colonne 'decision' avec les décisions d'achat/vente\n",
    "L_DF_Historique_Paire_Final['decision'] = util_TA.verifier_decision_achat(L_DF_Historique_Paire_Final)['Decision']\n",
    "# Exportation du DataFrame en fichier CSV\n",
    "L_DF_Historique_Paire_Final.to_csv('aa.csv', index=False)\n",
    "# Simulation du trading avec les paramètres donnés et affichage du résultat\n",
    "L_Montant_Portefeuille = 10000\n",
    "L_Montant_Stop_Loss=0.01         #0.1 =10%  1=100%\n",
    "L_Montant_Take_Profit=0.05\n",
    "res = util_TA.simulate_trading(L_DF_Historique_Paire_Final, L_Montant_Portefeuille, L_Montant_Stop_Loss,L_Montant_Take_Profit)\n",
    "print(\"Votre montant s'eleve a :\",res,\"€\")"
   ]
  }
 ],
 "metadata": {
  "kernelspec": {
   "display_name": "Python 3",
   "language": "python",
   "name": "python3"
  },
  "language_info": {
   "codemirror_mode": {
    "name": "ipython",
    "version": 3
   },
   "file_extension": ".py",
   "mimetype": "text/x-python",
   "name": "python",
   "nbconvert_exporter": "python",
   "pygments_lexer": "ipython3",
   "version": "3.11.1"
  },
  "vscode": {
   "interpreter": {
    "hash": "f418b68f17e5745f5496cb824999144c7093af4b7f614619feced0ae68807fc7"
   }
  }
 },
 "nbformat": 4,
 "nbformat_minor": 2
}
