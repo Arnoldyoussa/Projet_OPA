{
 "cells": [
  {
   "cell_type": "code",
   "execution_count": 2,
   "metadata": {},
   "outputs": [
    {
     "ename": "TypeError",
     "evalue": "Load_DB_SQL_Histo() takes 1 positional argument but 3 were given",
     "output_type": "error",
     "traceback": [
      "\u001b[1;31m---------------------------------------------------------------------------\u001b[0m",
      "\u001b[1;31mTypeError\u001b[0m                                 Traceback (most recent call last)",
      "Cell \u001b[1;32mIn[2], line 7\u001b[0m\n\u001b[0;32m      4\u001b[0m EndTime\u001b[39m=\u001b[39m\u001b[39m\"\u001b[39m\u001b[39m2023-03-01\u001b[39m\u001b[39m\"\u001b[39m\n\u001b[0;32m      6\u001b[0m Bot\u001b[39m.\u001b[39mLoad_DB_Mongo([paire], StartTime, EndTime)\n\u001b[1;32m----> 7\u001b[0m Bot\u001b[39m.\u001b[39;49mLoad_DB_SQL_Histo([paire], StartTime, EndTime)\n",
      "\u001b[1;31mTypeError\u001b[0m: Load_DB_SQL_Histo() takes 1 positional argument but 3 were given"
     ]
    }
   ],
   "source": [
    "from Binance import Bot_Trading_OPA as Bot \n",
    "paire=\"ETHUSDT\"\n",
    "StartTime=\"2018-01-01\"\n",
    "EndTime=\"2023-03-01\"\n",
    "\n",
    "Bot.Load_DB_Mongo([paire], StartTime, EndTime) \n",
    "Bot.Load_DB_SQL_Histo([paire], StartTime, EndTime)\n"
   ]
  }
 ],
 "metadata": {
  "kernelspec": {
   "display_name": "Python 3",
   "language": "python",
   "name": "python3"
  },
  "language_info": {
   "codemirror_mode": {
    "name": "ipython",
    "version": 3
   },
   "file_extension": ".py",
   "mimetype": "text/x-python",
   "name": "python",
   "nbconvert_exporter": "python",
   "pygments_lexer": "ipython3",
   "version": "3.11.3"
  },
  "orig_nbformat": 4
 },
 "nbformat": 4,
 "nbformat_minor": 2
}
