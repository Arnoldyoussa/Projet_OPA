{
 "cells": [
  {
   "attachments": {},
   "cell_type": "markdown",
   "id": "e213dbc2",
   "metadata": {},
   "source": [
    "## Exemple Utilisation Bot Trading OPA"
   ]
  },
  {
   "cell_type": "code",
   "execution_count": 1,
   "id": "48a2aebf",
   "metadata": {},
   "outputs": [],
   "source": [
    "import Bot_Trading_OPA as Bot\n",
    "from plotly.subplots import make_subplots"
   ]
  },
  {
   "attachments": {},
   "cell_type": "markdown",
   "id": "1a564284",
   "metadata": {},
   "source": [
    "##### Réinitialisation des Bases"
   ]
  },
  {
   "cell_type": "code",
   "execution_count": 2,
   "id": "d1237608",
   "metadata": {},
   "outputs": [
    {
     "name": "stdout",
     "output_type": "stream",
     "text": [
      "Step 1 : suppression de la base SQLlite\n",
      "Step 2 : suppression des Collections  dans la Base Mongo\n",
      "OK\n"
     ]
    }
   ],
   "source": [
    "print(Bot.Reset_DB_All())"
   ]
  },
  {
   "attachments": {},
   "cell_type": "markdown",
   "id": "cb7da945",
   "metadata": {},
   "source": [
    "#### Phase 1 : Alimentation de la Base Historique\n",
    "##### Chargement de la Base Mongo"
   ]
  },
  {
   "cell_type": "code",
   "execution_count": 3,
   "id": "415d2e80",
   "metadata": {},
   "outputs": [
    {
     "name": "stdout",
     "output_type": "stream",
     "text": [
      "Téléchargement des Fichiers à charger\n",
      "Chargement Base MongoDB\n",
      "OK\n"
     ]
    }
   ],
   "source": [
    "print(Bot.Load_DB_Mongo(['ETHUSDT'], '2019-01-01', '2020-12-31'))"
   ]
  },
  {
   "attachments": {},
   "cell_type": "markdown",
   "id": "0677d1c5",
   "metadata": {},
   "source": [
    "##### Chargement de la Base SQL Historique"
   ]
  },
  {
   "cell_type": "code",
   "execution_count": 4,
   "id": "5f8b2f32",
   "metadata": {},
   "outputs": [
    {
     "name": "stdout",
     "output_type": "stream",
     "text": [
      "Connexion aux DataBases\n",
      "Chargement Dimension Temps\n",
      "Chargement Dimension Symbol\n",
      "Chargement Fait Cours Historique\n",
      "Récupération des Données des Paires ['ETHUSDT'] sur la période du 2019-01-01 au 2020-12-31\n"
     ]
    },
    {
     "name": "stderr",
     "output_type": "stream",
     "text": [
      "/home/arnold/ENV_VIRTUEL/ATU_FORMATION/REP_DEV/Projet_OPA/Binance/Utils/Technical_Analyst.py:94: SettingWithCopyWarning: \n",
      "A value is trying to be set on a copy of a slice from a DataFrame.\n",
      "Try using .loc[row_indexer,col_indexer] = value instead\n",
      "\n",
      "See the caveats in the documentation: https://pandas.pydata.org/pandas-docs/stable/user_guide/indexing.html#returning-a-view-versus-a-copy\n",
      "  L_Temps.loc[:, 'DEC_ACHAT'] = 0\n",
      "/home/arnold/ENV_VIRTUEL/ATU_FORMATION/REP_DEV/Projet_OPA/Binance/Utils/Technical_Analyst.py:95: SettingWithCopyWarning: \n",
      "A value is trying to be set on a copy of a slice from a DataFrame.\n",
      "Try using .loc[row_indexer,col_indexer] = value instead\n",
      "\n",
      "See the caveats in the documentation: https://pandas.pydata.org/pandas-docs/stable/user_guide/indexing.html#returning-a-view-versus-a-copy\n",
      "  L_Temps.loc[:, 'DEC_VENTE'] = 0\n"
     ]
    },
    {
     "name": "stdout",
     "output_type": "stream",
     "text": [
      "Lancement Fonction Boucle Trading M1\n",
      "Chargement Desion Achat Vente M1\n",
      "Chargement Desion Achat Vente M2\n",
      "OK\n"
     ]
    }
   ],
   "source": [
    "print(Bot.Load_DB_SQL_Histo(['ETHUSDT'], '2019-01-01', '2020-12-31'))"
   ]
  },
  {
   "attachments": {},
   "cell_type": "markdown",
   "id": "9cee9adc",
   "metadata": {},
   "source": [
    "##### Visualisation des Décisions d'Achat / Vente ( Histo)\n",
    "###### Methode 1 vs Methode 2 : Sur la Paire ETHUSDT"
   ]
  },
  {
   "cell_type": "code",
   "execution_count": null,
   "id": "a2d4c986",
   "metadata": {},
   "outputs": [],
   "source": [
    "X_M1_E = Bot.Get_DataPaire(['ETHUSDT'], '2019-01-01', '2020-12-31', 'M1')\n",
    "X_M2_E = Bot.Get_DataPaire(['ETHUSDT'], '2019-01-01', '2020-12-31', 'M2')\n",
    "\n",
    "fig_M1_E = Bot.Get_Graphe_Prediction_Achat_Vente(X_M1_E)\n",
    "fig_M2_E = Bot.Get_Graphe_Prediction_Achat_Vente(X_M2_E)\n"
   ]
  },
  {
   "cell_type": "code",
   "execution_count": null,
   "id": "c0ec5dbf",
   "metadata": {},
   "outputs": [],
   "source": [
    "fig1 = make_subplots(rows=2, cols=1)\n",
    "fig1.add_trace( fig_M1_E.data[0],  row=1, col=1)\n",
    "fig1.add_trace( fig_M1_E.data[1],  row=1, col=1)\n",
    "fig1.add_trace( fig_M1_E.data[2],  row=1, col=1)\n",
    "\n",
    "fig1.add_trace(fig_M2_E.data[0],  row=2, col=1 )\n",
    "fig1.add_trace(fig_M2_E.data[1],  row=2, col=1 )\n",
    "fig1.add_trace(fig_M2_E.data[2],  row=2, col=1 )\n",
    "\n",
    "fig1.update_layout(height=1000, width=1000, title_text=\"Delta Methode 1 vs Methode 2\")\n",
    "fig1.show()"
   ]
  },
  {
   "attachments": {},
   "cell_type": "markdown",
   "id": "7d28da47",
   "metadata": {},
   "source": [
    "#### Phase 2 : Alimentation de la base SQL Live\n",
    "##### Init SQL Live\n",
    "Initialisation Base SQL Live a faire tous les 1er du Mois\n"
   ]
  },
  {
   "cell_type": "code",
   "execution_count": null,
   "id": "5622b516",
   "metadata": {},
   "outputs": [],
   "source": [
    "Bot.Reset_DB_Live()"
   ]
  },
  {
   "attachments": {},
   "cell_type": "markdown",
   "id": "74d34aa1",
   "metadata": {},
   "source": [
    "##### Chargement SQL Live"
   ]
  },
  {
   "cell_type": "code",
   "execution_count": null,
   "id": "6bd67785",
   "metadata": {},
   "outputs": [],
   "source": [
    "import Bot_Trading_OPA as Bot\n",
    "Bot.Load_DB_SQL_Live(['ETHUSDT'], '2021-01-01', '2021-12-31')\n",
    "\n",
    "for symbol in ['ETHUSDT']:\n",
    "    Bot.Load_DB_SQLPrediction(symbol, 'M2', 50000)\n",
    "    Bot.Load_DB_SQLPrediction(symbol, 'M1', 50000)"
   ]
  },
  {
   "cell_type": "code",
   "execution_count": null,
   "id": "432a107a",
   "metadata": {},
   "outputs": [],
   "source": [
    "from plotly.subplots import make_subplots\n",
    "X_M2_B_l = Bot.Get_DataPaire(['ETHUSDT'], '2021-01-01', '2021-12-31', 'M2')\n",
    "\n",
    "(rapport_M2_E_l, Data_M2_E_l) = Bot.Get_SimulationGain(X_M2_B_l, \"ETHUSDT\")\n",
    "\n",
    "fig_M2_B_l = Bot.Get_Graphe_Prediction_Achat_Vente(X_M2_B_l)\n",
    "fig2_M2_E_l = Bot.Get_Graphe_SimulationGain(Data_M2_E_l)\n",
    "\n",
    "fig2 = make_subplots(rows=2, cols=1)\n",
    "fig2.add_trace(fig_M2_B_l.data[0],  row=1, col=1 )\n",
    "fig2.add_trace(fig_M2_B_l.data[1],  row=1, col=1 )\n",
    "fig2.add_trace(fig_M2_B_l.data[2],  row=1, col=1 )\n",
    "fig2.add_trace(fig2_M2_E_l.data[0],  row=2, col=1 )\n",
    "fig2.add_trace(fig2_M2_E_l.data[1],  row=2, col=1 )\n",
    "\n",
    "fig2.update_layout(height=1000, width=1000, title_text=\"Simulation Gain Methode 2\")\n",
    "fig2.show()"
   ]
  },
  {
   "attachments": {},
   "cell_type": "markdown",
   "id": "dff070c3",
   "metadata": {},
   "source": [
    "#### Phase 3 : Simulation Gain\n",
    "##### Methode 1 vs Methode 2 : Sur la Paire ETHUSDT"
   ]
  },
  {
   "cell_type": "code",
   "execution_count": null,
   "id": "54484478",
   "metadata": {},
   "outputs": [],
   "source": [
    "X_M1_E = Bot.Get_DataPaire(['ETHUSDT'], '2021-01-01', '2021-12-31', 'M1')\n",
    "X_M2_E = Bot.Get_DataPaire(['ETHUSDT'], '2021-01-01', '2021-12-31', 'M2')\n",
    "\n",
    "(rapport_M1_E, Data_M1_E) = Bot.Get_SimulationGain(X_M1_E, \"ETHUSDT\")\n",
    "(rapport_M2_E, Data_M2_E) = Bot.Get_SimulationGain(X_M2_E, \"ETHUSDT\")\n",
    "\n",
    "fig2_M1_E = Bot.Get_Graphe_SimulationGain(Data_M1_E)\n",
    "fig2_M2_E = Bot.Get_Graphe_SimulationGain(Data_M2_E)"
   ]
  },
  {
   "cell_type": "code",
   "execution_count": null,
   "id": "e3aa0590",
   "metadata": {},
   "outputs": [],
   "source": [
    "fig3 = make_subplots(rows=2, cols=1)\n",
    "fig3.add_trace( fig2_M1_E.data[0],  row=1, col=1)\n",
    "fig3.add_trace( fig2_M1_E.data[1],  row=1, col=1)\n",
    "\n",
    "fig3.add_trace(fig2_M2_E.data[0],  row=2, col=1 )\n",
    "fig3.add_trace(fig2_M2_E.data[1],  row=2, col=1 )\n",
    "\n",
    "fig3.update_layout(height=1000, width=1000, title_text=\"Delta Methode 1 vs Methode 2\")\n",
    "fig3.show()"
   ]
  }
 ],
 "metadata": {
  "kernelspec": {
   "display_name": "Python 3 (ipykernel)",
   "language": "python",
   "name": "python3"
  },
  "language_info": {
   "codemirror_mode": {
    "name": "ipython",
    "version": 3
   },
   "file_extension": ".py",
   "mimetype": "text/x-python",
   "name": "python",
   "nbconvert_exporter": "python",
   "pygments_lexer": "ipython3",
   "version": "3.8.10"
  }
 },
 "nbformat": 4,
 "nbformat_minor": 5
}
