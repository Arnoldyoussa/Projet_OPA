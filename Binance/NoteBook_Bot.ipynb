{
 "cells": [
  {
   "cell_type": "markdown",
   "metadata": {},
   "source": [
    "# # # Notebook Test Consommation data "
   ]
  },
  {
   "attachments": {},
   "cell_type": "markdown",
   "metadata": {},
   "source": [
    "Import des Modules Necessaires au bon fonctionnement du bot.\n",
    "\n",
    "PS : un fichier Requierement a été mis à disposition"
   ]
  },
  {
   "cell_type": "code",
   "execution_count": 1,
   "metadata": {},
   "outputs": [],
   "source": [
    "from Data import Binance_Histo as Histo\n",
    "from Data import Binance_Live as live\n",
    "from Dao import Drivers_MongoDB as DAO_MB\n",
    "from Dao import Drivers_SQlite as DAO_SQL\n"
   ]
  },
  {
   "cell_type": "markdown",
   "metadata": {},
   "source": [
    "Phase 1 : Chargement Historique d'une Paire de Crypto\n",
    "\n",
    "Symbol = ETHUSDT\n",
    "Intervalle = 15m\n",
    "Frequence = Q (valeur par défaut)\n",
    "\n",
    "Voir la description de la classe, pour avoir la liste des paramétres."
   ]
  },
  {
   "cell_type": "code",
   "execution_count": 2,
   "metadata": {},
   "outputs": [
    {
     "name": "stdout",
     "output_type": "stream",
     "text": [
      "ci dessous la liste des fichiers à charger\n",
      "[{'Nom': 'ETHBUSD-15m-2022-12.csv', 'URL': 'https://data.binance.vision/data/spot/monthly/klines/ETHBUSD/15m/ETHBUSD-15m-2022-12.zip'}]\n"
     ]
    }
   ],
   "source": [
    "X = Histo.Binance_Histo(['ETHBUSD'], ['15m'], Frequence= 'M')\n",
    "X.get_ListeFichier()\n",
    "X.TelechargeFichier()\n",
    "\n",
    "print('ci dessous la liste des fichiers à charger')\n",
    "print(X.L_Fichier)"
   ]
  },
  {
   "cell_type": "markdown",
   "metadata": {},
   "source": [
    "Phase 2 : chargement en MongoDB des fichiers\n",
    "\n",
    "PS : ne pas oublier de démarrer la base MongoDB"
   ]
  },
  {
   "cell_type": "code",
   "execution_count": 3,
   "metadata": {},
   "outputs": [],
   "source": [
    "L = list()\n",
    "for Monfichier in X.L_Fichier:\n",
    "    L.append(Monfichier['Nom'])\n",
    "    \n",
    "Y = DAO_MB.Drivers_MongoDB(L)\n",
    "Y.ChargeFichiers()\n"
   ]
  },
  {
   "cell_type": "markdown",
   "metadata": {},
   "source": [
    "Phase 2.1 : Vérification Chargement MongoDB\n",
    "Puis suppression des Fichiers téléchargés"
   ]
  },
  {
   "cell_type": "code",
   "execution_count": 4,
   "metadata": {},
   "outputs": [
    {
     "name": "stdout",
     "output_type": "stream",
     "text": [
      "Liste des Collection : ['ETHBUSD', '1INCHBUSD']\n",
      "Liste des Fichiers Chargés de la 1ere collection : ['ETHBUSD-15m-2022-12.csv', 'ETHBUSD-15m-2022-12-22.csv', 'ETHBUSD-15m-2022-12-23.csv', 'ETHBUSD-15m-2022-12-24.csv', 'ETHBUSD-15m-2022-12-25.csv', 'ETHBUSD-15m-2022-12-26.csv', 'ETHBUSD-15m-2022-12-27.csv', 'ETHBUSD-15m-2022-12-28.csv', 'ETHBUSD-15m-2022-12-29.csv', 'ETHBUSD-15m-2022-12-30.csv', 'ETHBUSD-15m-2022-12-31.csv', 'ETHBUSD-15m-2023-01-01.csv', 'ETHBUSD-15m-2023-01-02.csv', 'ETHBUSD-15m-2023-01-03.csv', 'ETHBUSD-15m-2023-01-04.csv', 'ETHBUSD-15m-2023-01-05.csv', 'ETHBUSD-15m-2023-01-06.csv', 'ETHBUSD-15m-2023-01-07.csv', 'ETHBUSD-15m-2023-01-08.csv', 'ETHBUSD-15m-2023-01-09.csv', 'ETHBUSD-15m-2023-01-10.csv', 'ETHBUSD-15m-2023-01-11.csv', 'ETHBUSD-15m-2023-01-12.csv', 'ETHBUSD-15m-2023-01-13.csv', 'ETHBUSD-15m-2023-01-14.csv', 'ETHBUSD-15m-2023-01-15.csv', 'ETHBUSD-15m-2023-01-16.csv', 'ETHBUSD-15m-2023-01-17.csv', 'ETHBUSD-15m-2023-01-18.csv', 'ETHBUSD-15m-2023-01-19.csv', 'ETHBUSD-15m-2023-01-20.csv']\n"
     ]
    }
   ],
   "source": [
    "print('Liste des Collection :',  Y.get_AllCollection())\n",
    "print('Liste des Fichiers Chargés de la 1ere collection :', Y.get_ListeFichier(Y.get_AllCollection()[0]))\n",
    "X.SupprimeFichier()"
   ]
  },
  {
   "cell_type": "markdown",
   "metadata": {},
   "source": [
    "Phase 3: Chargement de la base SQLite --A compléter\n",
    "Quelques Test .."
   ]
  },
  {
   "cell_type": "code",
   "execution_count": 5,
   "metadata": {},
   "outputs": [
    {
     "name": "stdout",
     "output_type": "stream",
     "text": [
      "True\n",
      "[(2, 5, 'hello word')]\n",
      "[('2023-01-21',)]\n"
     ]
    }
   ],
   "source": [
    "T = DAO_SQL.Drivers_SQLite('/home/arnold/ENV_VIRTUEL/ATU_FORMATION/REP_DEV/Projet_OPA/DataBase/SQLite/test.db')\n",
    "\n",
    "print(T.ISValid_SQL('SELECT 1;'))\n",
    "\n",
    "print(T.Select(\"SELECT 2, 5, ?;\", ('hello word',)))\n",
    "print(T.Select('select current_date ;'))\n",
    "\n",
    "T.CloseConnection()"
   ]
  },
  {
   "cell_type": "markdown",
   "metadata": {},
   "source": [
    "Phase 4 : Mise en place du ML Classification\n",
    "...."
   ]
  },
  {
   "cell_type": "markdown",
   "metadata": {},
   "source": [
    "Phase 5 : Récupération données Temps réels\n",
    "..."
   ]
  },
  {
   "cell_type": "code",
   "execution_count": 6,
   "metadata": {},
   "outputs": [
    {
     "name": "stdout",
     "output_type": "stream",
     "text": [
      "[[1674335700000, '1656.28000000', '1659.63000000', '1653.83000000', '1655.57000000', '1545.77630000', 1674336599999, '2560729.14396100', 1990, '889.26200000', '1473076.62739800', '0'], [1674336600000, '1655.61000000', '1660.57000000', '1655.43000000', '1659.79000000', '835.48190000', 1674337499999, '1385540.06971000', 1159, '454.99330000', '754559.73663500', '0']]\n"
     ]
    }
   ],
   "source": [
    "Z = live.Binance_Live()\n",
    "print(Z.klines(\"ETHBUSD\", \"15m\", limit = 2))"
   ]
  }
 ],
 "metadata": {
  "kernelspec": {
   "display_name": "Python 3 (ipykernel)",
   "language": "python",
   "name": "python3"
  },
  "language_info": {
   "codemirror_mode": {
    "name": "ipython",
    "version": 3
   },
   "file_extension": ".py",
   "mimetype": "text/x-python",
   "name": "python",
   "nbconvert_exporter": "python",
   "pygments_lexer": "ipython3",
   "version": "3.8.10"
  },
  "vscode": {
   "interpreter": {
    "hash": "916dbcbb3f70747c44a77c7bcd40155683ae19c65e1c03b4aa3499c5328201f1"
   }
  }
 },
 "nbformat": 4,
 "nbformat_minor": 2
}
